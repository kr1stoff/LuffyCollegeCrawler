{
 "cells": [
  {
   "metadata": {
    "ExecuteTime": {
     "end_time": "2024-06-27T07:06:57.972481Z",
     "start_time": "2024-06-27T07:06:57.969500Z"
    }
   },
   "cell_type": "code",
   "source": [
    "import requests\n",
    "from lxml import etree\n",
    "import re\n",
    "import time\n",
    "import csv"
   ],
   "id": "61851653fb63bb21",
   "outputs": [],
   "execution_count": 70
  },
  {
   "metadata": {
    "ExecuteTime": {
     "end_time": "2024-06-27T06:59:58.089753Z",
     "start_time": "2024-06-27T06:59:58.083264Z"
    }
   },
   "cell_type": "code",
   "source": [
    "def crawl_single_page(start:int=0):\n",
    "    url = f'https://movie.douban.com/review/best/?start={start}'\n",
    "    headers = {\"User-Agent\" : \"Mozilla/5.0 (Windows NT 10.0; Win64; x64) AppleWebKit/537.36 (KHTML, like Gecko) Chrome/126.0.0.0 Safari/537.36\"}\n",
    "    response = requests.get(url, headers=headers)\n",
    "    tree = etree.HTML(response.content.decode())\n",
    "    \n",
    "    for item in tree.xpath('//div[@class=\"review-list chart \"]/div/div[@class=\"main review-item\"]'):\n",
    "        cover = item.xpath('./a/img/@src')[0]\n",
    "        title = item.xpath('./a/img/@title')[0]\n",
    "        comment = ' '.join([line.strip().replace('\\xa0', ' ') for line in item.xpath('.//div[@class=\"short-content\"]/text()')]).replace('( )','').strip()\n",
    "        review_page = item.xpath('./div[@class=\"main-bd\"]/h2/a/@href')[0]\n",
    "        \n",
    "        review_resp = requests.get(review_page, headers=headers)\n",
    "        review_tree = etree.HTML(review_resp.content.decode())\n",
    "        full_comment = ' '.join([t.strip() for t in review_tree.xpath('//div[@class=\"review-content clearfix\"]//text()')]).strip()\n",
    "        \n",
    "        yield cover, title, comment, full_comment"
   ],
   "id": "b7623dbfa9610db9",
   "outputs": [],
   "execution_count": 60
  },
  {
   "metadata": {
    "ExecuteTime": {
     "end_time": "2024-06-27T07:11:13.259066Z",
     "start_time": "2024-06-27T07:10:13.597066Z"
    }
   },
   "cell_type": "code",
   "source": [
    "url = f'https://movie.douban.com/review/best/?start=0'\n",
    "headers = {\"User-Agent\" : \"Mozilla/5.0 (Windows NT 10.0; Win64; x64) AppleWebKit/537.36 (KHTML, like Gecko) Chrome/126.0.0.0 Safari/537.36\"}\n",
    "response = requests.get(url, headers=headers)\n",
    "tree = etree.HTML(response.content.decode())\n",
    "\n",
    "# 多页\n",
    "f = open('豆瓣影评2.csv', 'w', encoding='utf-8', newline='')\n",
    "csv_writer = csv.writer(f)\n",
    "\n",
    "max_entries_num = int(re.search('\\d+', tree.xpath('//div[@class=\"paginator\"]/span[@class=\"count\"]/text()')[0]).group())\n",
    "for men in range(0, max_entries_num, 10):\n",
    "    for info in crawl_single_page(men):\n",
    "        csv_writer.writerow(info)\n",
    "    time.sleep(1)\n",
    "    \n",
    "f.close()"
   ],
   "id": "8efd3c8b7b7c4288",
   "outputs": [],
   "execution_count": 77
  },
  {
   "metadata": {
    "ExecuteTime": {
     "end_time": "2024-06-27T07:09:24.566578Z",
     "start_time": "2024-06-27T07:09:19.388373Z"
    }
   },
   "cell_type": "code",
   "source": [
    "# 单页\n",
    "with open('豆瓣影评1.csv', 'w', encoding='utf-8', newline='') as f:\n",
    "    csv_writer = csv.writer(f)\n",
    "    for info in crawl_single_page(0):\n",
    "        csv_writer.writerow(info)"
   ],
   "id": "79f203c87534deb9",
   "outputs": [],
   "execution_count": 76
  },
  {
   "metadata": {},
   "cell_type": "code",
   "outputs": [],
   "execution_count": null,
   "source": "",
   "id": "f644323dc6755614"
  }
 ],
 "metadata": {
  "kernelspec": {
   "display_name": "Python 3",
   "language": "python",
   "name": "python3"
  },
  "language_info": {
   "codemirror_mode": {
    "name": "ipython",
    "version": 2
   },
   "file_extension": ".py",
   "mimetype": "text/x-python",
   "name": "python",
   "nbconvert_exporter": "python",
   "pygments_lexer": "ipython2",
   "version": "2.7.6"
  }
 },
 "nbformat": 4,
 "nbformat_minor": 5
}
