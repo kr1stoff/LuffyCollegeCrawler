{
 "cells": [
  {
   "metadata": {},
   "cell_type": "markdown",
   "source": "单页",
   "id": "b68ce56b16c0066c"
  },
  {
   "metadata": {
    "ExecuteTime": {
     "end_time": "2024-06-27T05:55:55.217279Z",
     "start_time": "2024-06-27T05:55:54.860257Z"
    }
   },
   "cell_type": "code",
   "source": [
    "import requests\n",
    "from lxml import etree\n",
    "import re\n",
    "\n",
    "headers = {\"User-Agent\" : \"Mozilla/5.0 (Windows NT 10.0; Win64; x64) AppleWebKit/537.36 (KHTML, like Gecko) Chrome/126.0.0.0 Safari/537.36\"}\n",
    "url = 'https://movie.douban.com/top250?start=0'\n",
    "response = requests.get(url, headers=headers)\n",
    "tree = etree.HTML(response.content.decode('utf-8'))"
   ],
   "id": "c758ec44720a069c",
   "outputs": [],
   "execution_count": 3
  },
  {
   "metadata": {
    "ExecuteTime": {
     "end_time": "2024-06-27T03:18:10.579690Z",
     "start_time": "2024-06-27T03:18:10.571176Z"
    }
   },
   "cell_type": "code",
   "source": [
    "f = open('豆瓣top250_1.csv', 'w', encoding='utf-8')\n",
    "\n",
    "for info in tree.xpath('//div[@class=\"info\"]'):\n",
    "    title = info.xpath('./div[@class=\"hd\"]/a/span[@class=\"title\"]/text()')[0]\n",
    "    brief = ' '.join([line.strip().replace('\\xa0', ' ') for line in info.xpath('./div[@class=\"bd\"]/p/text()')]).strip()\n",
    "    rating_num = info.xpath('./div[@class=\"bd\"]/div[@class=\"star\"]/span[@class=\"rating_num\"]/text()')[0]\n",
    "    evaluators_num = re.match('^\\d+', info.xpath('./div[@class=\"bd\"]/div[@class=\"star\"]/span[4]/text()')[0]).group()\n",
    "    f.write(','.join([title, brief, rating_num, evaluators_num]) + '\\n')\n",
    "    \n",
    "f.close()"
   ],
   "id": "99ff88e8b2707dcc",
   "outputs": [],
   "execution_count": 65
  },
  {
   "metadata": {},
   "cell_type": "markdown",
   "source": "多页",
   "id": "c93f3b746ee62c34"
  },
  {
   "metadata": {
    "ExecuteTime": {
     "end_time": "2024-06-27T06:05:06.810008Z",
     "start_time": "2024-06-27T06:05:06.807090Z"
    }
   },
   "cell_type": "code",
   "source": [
    "import requests\n",
    "from lxml import etree"
   ],
   "id": "7707ef4ceea62b76",
   "outputs": [],
   "execution_count": 16
  },
  {
   "metadata": {
    "ExecuteTime": {
     "end_time": "2024-06-27T06:05:07.201989Z",
     "start_time": "2024-06-27T06:05:07.196723Z"
    }
   },
   "cell_type": "code",
   "source": [
    "def crawl_single_page(start_entry_num:int=0):\n",
    "    url = f'https://movie.douban.com/top250?start={start_entry_num}'\n",
    "    response = requests.get(url, headers=headers)\n",
    "    tree = etree.HTML(response.content.decode('utf-8'))\n",
    "    \n",
    "    for info in tree.xpath('//div[@class=\"info\"]'):\n",
    "        title = info.xpath('./div[@class=\"hd\"]/a/span[@class=\"title\"]/text()')[0]\n",
    "        brief = ' '.join([line.strip().replace('\\xa0', ' ') for line in info.xpath('./div[@class=\"bd\"]/p/text()')]).strip()\n",
    "        rating_num = info.xpath('./div[@class=\"bd\"]/div[@class=\"star\"]/span[@class=\"rating_num\"]/text()')[0]\n",
    "        evaluators_num = re.match('^\\d+', info.xpath('./div[@class=\"bd\"]/div[@class=\"star\"]/span[4]/text()')[0]).group()\n",
    "        yield title, brief, rating_num, evaluators_num"
   ],
   "id": "b80bb97391572ea4",
   "outputs": [],
   "execution_count": 17
  },
  {
   "metadata": {
    "ExecuteTime": {
     "end_time": "2024-06-27T06:05:11.976766Z",
     "start_time": "2024-06-27T06:05:07.725657Z"
    }
   },
   "cell_type": "code",
   "source": [
    "max_entries_num = int(re.search('\\d+', tree.xpath('//div[@class=\"paginator\"]/span[@class=\"count\"]/text()')[0]).group())\n",
    "\n",
    "f = open('豆瓣top250_2.csv', 'w', encoding='utf-8')\n",
    "\n",
    "for start in range(0, max_entries_num, 25):\n",
    "    for info in crawl_single_page(start):\n",
    "        f.write(','.join(info) + '\\n')\n",
    "    \n",
    "f.close()"
   ],
   "id": "ce112076f8204537",
   "outputs": [],
   "execution_count": 18
  },
  {
   "metadata": {},
   "cell_type": "code",
   "outputs": [],
   "execution_count": null,
   "source": "",
   "id": "2282028876cb7779"
  }
 ],
 "metadata": {
  "kernelspec": {
   "display_name": "Python 3",
   "language": "python",
   "name": "python3"
  },
  "language_info": {
   "codemirror_mode": {
    "name": "ipython",
    "version": 2
   },
   "file_extension": ".py",
   "mimetype": "text/x-python",
   "name": "python",
   "nbconvert_exporter": "python",
   "pygments_lexer": "ipython2",
   "version": "2.7.6"
  }
 },
 "nbformat": 4,
 "nbformat_minor": 5
}
