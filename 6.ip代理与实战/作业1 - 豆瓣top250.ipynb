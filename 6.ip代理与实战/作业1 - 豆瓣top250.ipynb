{
 "cells": [
  {
   "cell_type": "code",
   "id": "initial_id",
   "metadata": {
    "collapsed": true,
    "ExecuteTime": {
     "end_time": "2024-06-27T03:12:17.919104Z",
     "start_time": "2024-06-27T03:12:17.915328Z"
    }
   },
   "source": [
    "import requests\n",
    "from lxml import etree\n",
    "import re"
   ],
   "outputs": [],
   "execution_count": 50
  },
  {
   "metadata": {},
   "cell_type": "markdown",
   "source": "单页",
   "id": "b68ce56b16c0066c"
  },
  {
   "metadata": {
    "ExecuteTime": {
     "end_time": "2024-06-27T03:18:10.569630Z",
     "start_time": "2024-06-27T03:18:10.173441Z"
    }
   },
   "cell_type": "code",
   "source": [
    "headers = {\"User-Agent\" : \"Mozilla/5.0 (Windows NT 10.0; Win64; x64) AppleWebKit/537.36 (KHTML, like Gecko) Chrome/126.0.0.0 Safari/537.36\"}\n",
    "url = 'https://movie.douban.com/top250?start=0'\n",
    "response = requests.get(url, headers=headers)\n",
    "tree = etree.HTML(response.content.decode('utf-8'))"
   ],
   "id": "c758ec44720a069c",
   "outputs": [],
   "execution_count": 64
  },
  {
   "metadata": {
    "ExecuteTime": {
     "end_time": "2024-06-27T03:18:10.579690Z",
     "start_time": "2024-06-27T03:18:10.571176Z"
    }
   },
   "cell_type": "code",
   "source": [
    "f = open('豆瓣top250_1.csv', 'w', encoding='utf-8')\n",
    "\n",
    "for info in tree.xpath('//div[@class=\"info\"]'):\n",
    "    title = info.xpath('./div[@class=\"hd\"]/a/span[@class=\"title\"]/text()')[0]\n",
    "    brief = ' '.join([line.strip().replace('\\xa0', ' ') for line in info.xpath('./div[@class=\"bd\"]/p/text()')]).strip()\n",
    "    rating_num = info.xpath('./div[@class=\"bd\"]/div[@class=\"star\"]/span[@class=\"rating_num\"]/text()')[0]\n",
    "    evaluators_num = re.match('^\\d+', info.xpath('./div[@class=\"bd\"]/div[@class=\"star\"]/span[4]/text()')[0]).group()\n",
    "    f.write(','.join([title, brief, rating_num, evaluators_num]) + '\\n')\n",
    "    \n",
    "f.close()"
   ],
   "id": "99ff88e8b2707dcc",
   "outputs": [],
   "execution_count": 65
  },
  {
   "metadata": {},
   "cell_type": "code",
   "outputs": [],
   "execution_count": null,
   "source": "",
   "id": "c17a857eec493b55"
  }
 ],
 "metadata": {
  "kernelspec": {
   "display_name": "Python 3",
   "language": "python",
   "name": "python3"
  },
  "language_info": {
   "codemirror_mode": {
    "name": "ipython",
    "version": 2
   },
   "file_extension": ".py",
   "mimetype": "text/x-python",
   "name": "python",
   "nbconvert_exporter": "python",
   "pygments_lexer": "ipython2",
   "version": "2.7.6"
  }
 },
 "nbformat": 4,
 "nbformat_minor": 5
}
