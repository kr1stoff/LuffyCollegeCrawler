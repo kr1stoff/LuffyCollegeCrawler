{
 "cells": [
  {
   "cell_type": "code",
   "id": "initial_id",
   "metadata": {
    "collapsed": true
   },
   "source": "from lxml import etree",
   "outputs": [],
   "execution_count": null
  },
  {
   "metadata": {},
   "cell_type": "code",
   "source": [
    "parser = etree.HTMLParser(encoding='utf-8')\n",
    "tree = etree.parse('豆瓣.html', parser=parser)\n",
    "result = etree.tostring(tree)\n",
    "print(result)"
   ],
   "id": "ab2103c4fd453f84",
   "outputs": [],
   "execution_count": null
  },
  {
   "metadata": {},
   "cell_type": "code",
   "source": [
    "elem = tree.xpath('//div[@class=\"article\"]')[0]\n",
    "res = etree.tostring(elem, encoding='utf-8')\n",
    "print(res.decode('utf-8'))"
   ],
   "id": "9e7e52440ba0403c",
   "outputs": [],
   "execution_count": null
  },
  {
   "metadata": {},
   "cell_type": "code",
   "source": "\n",
   "id": "7dfc55871f096627",
   "outputs": [],
   "execution_count": null
  }
 ],
 "metadata": {
  "kernelspec": {
   "display_name": "Python 3",
   "language": "python",
   "name": "python3"
  },
  "language_info": {
   "codemirror_mode": {
    "name": "ipython",
    "version": 2
   },
   "file_extension": ".py",
   "mimetype": "text/x-python",
   "name": "python",
   "nbconvert_exporter": "python",
   "pygments_lexer": "ipython2",
   "version": "2.7.6"
  }
 },
 "nbformat": 4,
 "nbformat_minor": 5
}
