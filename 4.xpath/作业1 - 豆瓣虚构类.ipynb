{
 "cells": [
  {
   "cell_type": "code",
   "id": "initial_id",
   "metadata": {
    "collapsed": true,
    "ExecuteTime": {
     "end_time": "2024-06-24T02:58:01.740953Z",
     "start_time": "2024-06-24T02:58:01.723934Z"
    }
   },
   "source": [
    "import csv\n",
    "from lxml import etree"
   ],
   "outputs": [],
   "execution_count": 123
  },
  {
   "metadata": {
    "ExecuteTime": {
     "end_time": "2024-06-24T02:58:02.086535Z",
     "start_time": "2024-06-24T02:58:02.075200Z"
    }
   },
   "cell_type": "code",
   "source": [
    "parser = etree.HTMLParser(encoding='utf-8')\n",
    "tree = etree.parse('豆瓣.html', parser=parser)"
   ],
   "id": "ab2103c4fd453f84",
   "outputs": [],
   "execution_count": 124
  },
  {
   "metadata": {
    "ExecuteTime": {
     "end_time": "2024-06-24T03:03:46.334449Z",
     "start_time": "2024-06-24T03:03:46.318081Z"
    }
   },
   "cell_type": "code",
   "source": [
    "f = open('作业1 - 豆瓣虚构类.csv', 'w', newline='', encoding='utf-8')\n",
    "csv_writer = csv.writer(f)\n",
    "csv_writer.writerow(['图片', '标题', '简介', '类型'])\n",
    "\n",
    "fictions = tree.xpath('//div[@class=\"article\"]/ul[@class=\"cover-col-4 clearfix\"]/li')\n",
    "# print(etree.tostring(fictions[0], encoding='utf-8').decode('utf-8'))\n",
    "for fict in fictions:\n",
    "    img = fict.xpath('./a/img[1]/@src')[0]\n",
    "    title = fict.xpath('./div/h2/a/text()')[0]\n",
    "    detail = fict.xpath('./div/p[@class=\"detail\"]/text()')[0].strip()\n",
    "    csv_writer.writerow([img, title, detail, '虚构类'])\n",
    "\n",
    "nonfictions = tree.xpath('//div[@class=\"aside\"]/ul[@class=\"cover-col-4 pl20 clearfix\"]/li')\n",
    "for nonf in nonfictions:\n",
    "    img = nonf.xpath('./a/img[1]/@src')[0]\n",
    "    title = nonf.xpath('./div/h2/a/text()')[0]\n",
    "    detail = nonf.xpath('./div/p[3]/text()')[0].strip()\n",
    "    csv_writer.writerow([img, title, detail, '非虚构类'])\n",
    "    \n",
    "f.close()"
   ],
   "id": "163e2d5bd7da7116",
   "outputs": [],
   "execution_count": 136
  },
  {
   "metadata": {},
   "cell_type": "code",
   "outputs": [],
   "execution_count": null,
   "source": "",
   "id": "41879b873bbe6503"
  }
 ],
 "metadata": {
  "kernelspec": {
   "display_name": "Python 3",
   "language": "python",
   "name": "python3"
  },
  "language_info": {
   "codemirror_mode": {
    "name": "ipython",
    "version": 2
   },
   "file_extension": ".py",
   "mimetype": "text/x-python",
   "name": "python",
   "nbconvert_exporter": "python",
   "pygments_lexer": "ipython2",
   "version": "2.7.6"
  }
 },
 "nbformat": 4,
 "nbformat_minor": 5
}
