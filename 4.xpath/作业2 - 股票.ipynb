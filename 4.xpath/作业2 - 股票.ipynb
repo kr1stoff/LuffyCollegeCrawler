{
 "cells": [
  {
   "cell_type": "code",
   "id": "initial_id",
   "metadata": {
    "collapsed": true,
    "ExecuteTime": {
     "end_time": "2024-06-24T03:18:23.831190Z",
     "start_time": "2024-06-24T03:18:23.819483Z"
    }
   },
   "source": [
    "from lxml import etree\n",
    "import csv"
   ],
   "outputs": [],
   "execution_count": 9
  },
  {
   "metadata": {
    "ExecuteTime": {
     "end_time": "2024-06-24T03:14:03.403057Z",
     "start_time": "2024-06-24T03:14:03.385122Z"
    }
   },
   "cell_type": "code",
   "source": "tree = etree.HTML(open('股票.html', encoding='utf-8').read())",
   "id": "d50f6b1c2d7bdfc9",
   "outputs": [],
   "execution_count": 2
  },
  {
   "metadata": {
    "ExecuteTime": {
     "end_time": "2024-06-24T03:18:25.421197Z",
     "start_time": "2024-06-24T03:18:25.404389Z"
    }
   },
   "cell_type": "code",
   "source": [
    "stocks = tree.xpath('//tbody[@class=\"tbody_right\" and @id=\"datalist\"]/tr')\n",
    "\n",
    "with open('作业2 - 股票.csv', 'w', encoding='utf-8', newline='') as f:\n",
    "    csv_writer = csv.writer(f)\n",
    "    csv_writer.writerow(['代码','简称','流通市值(万元)','总市值(万元)','流通股本(万元)','总股本(万元)'])\n",
    "    for stock in stocks:\n",
    "        csv_writer.writerow(stock.xpath('./td//text()'))"
   ],
   "id": "2963f1bffbd21893",
   "outputs": [],
   "execution_count": 10
  },
  {
   "metadata": {},
   "cell_type": "code",
   "outputs": [],
   "execution_count": null,
   "source": "",
   "id": "cf60df6132d97788"
  }
 ],
 "metadata": {
  "kernelspec": {
   "display_name": "Python 3",
   "language": "python",
   "name": "python3"
  },
  "language_info": {
   "codemirror_mode": {
    "name": "ipython",
    "version": 2
   },
   "file_extension": ".py",
   "mimetype": "text/x-python",
   "name": "python",
   "nbconvert_exporter": "python",
   "pygments_lexer": "ipython2",
   "version": "2.7.6"
  }
 },
 "nbformat": 4,
 "nbformat_minor": 5
}
