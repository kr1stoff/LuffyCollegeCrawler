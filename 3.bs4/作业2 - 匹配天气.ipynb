{
 "cells": [
  {
   "cell_type": "code",
   "id": "initial_id",
   "metadata": {
    "collapsed": true,
    "ExecuteTime": {
     "end_time": "2024-06-21T10:53:12.698261Z",
     "start_time": "2024-06-21T10:53:12.585516Z"
    }
   },
   "source": "from bs4 import BeautifulSoup",
   "outputs": [],
   "execution_count": 1
  },
  {
   "metadata": {
    "ExecuteTime": {
     "end_time": "2024-06-21T10:53:47.349633Z",
     "start_time": "2024-06-21T10:53:46.881835Z"
    }
   },
   "cell_type": "code",
   "source": "soup = BeautifulSoup(open('匹配天气.html', encoding='utf-8'), 'html.parser')",
   "id": "96bb1395a7ecba20",
   "outputs": [],
   "execution_count": 2
  },
  {
   "metadata": {},
   "cell_type": "code",
   "outputs": [],
   "execution_count": null,
   "source": "soup.",
   "id": "3bab4ef3d892874"
  }
 ],
 "metadata": {
  "kernelspec": {
   "display_name": "Python 3",
   "language": "python",
   "name": "python3"
  },
  "language_info": {
   "codemirror_mode": {
    "name": "ipython",
    "version": 2
   },
   "file_extension": ".py",
   "mimetype": "text/x-python",
   "name": "python",
   "nbconvert_exporter": "python",
   "pygments_lexer": "ipython2",
   "version": "2.7.6"
  }
 },
 "nbformat": 4,
 "nbformat_minor": 5
}
