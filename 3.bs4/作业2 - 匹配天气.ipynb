{
 "cells": [
  {
   "cell_type": "code",
   "id": "initial_id",
   "metadata": {
    "collapsed": true,
    "ExecuteTime": {
     "end_time": "2024-06-22T01:28:08.552948Z",
     "start_time": "2024-06-22T01:28:08.442597Z"
    }
   },
   "source": [
    "from bs4 import BeautifulSoup\n",
    "import re"
   ],
   "outputs": [],
   "execution_count": 1
  },
  {
   "metadata": {
    "ExecuteTime": {
     "end_time": "2024-06-22T01:28:09.010536Z",
     "start_time": "2024-06-22T01:28:08.552948Z"
    }
   },
   "cell_type": "code",
   "source": "soup = BeautifulSoup(open('匹配天气.html', encoding='utf-8'), 'html.parser')",
   "id": "96bb1395a7ecba20",
   "outputs": [],
   "execution_count": 2
  },
  {
   "metadata": {
    "ExecuteTime": {
     "end_time": "2024-06-22T01:28:09.103173Z",
     "start_time": "2024-06-22T01:28:09.010536Z"
    }
   },
   "cell_type": "code",
   "source": [
    "f = open('作业2 - 匹配天气.csv', 'w', encoding='utf-8')\n",
    "f.write('城市,天气\\n')\n",
    "\n",
    "for tag_tr in soup.find_all('tr'):\n",
    "    tag_city = tag_tr.find(href=re.compile('/textFC/.*?.shtml'))\n",
    "    tag_temp = tag_tr.find(attrs={'width': '92'})\n",
    "    # 城市和温度都有内容\n",
    "    if tag_city and tag_temp:\n",
    "        f.write(f'{tag_city.text},{tag_temp.text}\\n')\n",
    "\n",
    "f.close()"
   ],
   "id": "b3c2af439d925485",
   "outputs": [],
   "execution_count": 3
  },
  {
   "metadata": {},
   "cell_type": "code",
   "outputs": [],
   "execution_count": null,
   "source": "",
   "id": "46d35fe89d046b1b"
  }
 ],
 "metadata": {
  "kernelspec": {
   "display_name": "Python 3",
   "language": "python",
   "name": "python3"
  },
  "language_info": {
   "codemirror_mode": {
    "name": "ipython",
    "version": 2
   },
   "file_extension": ".py",
   "mimetype": "text/x-python",
   "name": "python",
   "nbconvert_exporter": "python",
   "pygments_lexer": "ipython2",
   "version": "2.7.6"
  }
 },
 "nbformat": 4,
 "nbformat_minor": 5
}
