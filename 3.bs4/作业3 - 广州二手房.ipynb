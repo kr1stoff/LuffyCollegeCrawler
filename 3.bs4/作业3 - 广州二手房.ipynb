{
 "cells": [
  {
   "cell_type": "code",
   "id": "b10e841453790842",
   "metadata": {
    "collapsed": true
   },
   "source": "from bs4 import BeautifulSoup",
   "outputs": [],
   "execution_count": null
  },
  {
   "metadata": {},
   "cell_type": "code",
   "source": [
    "soup = BeautifulSoup(open('广州二手房.html', 'r', encoding='utf-8'), 'html.parser')\n",
    "# print(soup.select('.house-item.house-itemB.clearfix')[0].h4.text.strip())\n",
    "# print(soup.select('.house-item.house-itemB.clearfix')[0].select('.item-info.fl')[0].select('.house-name')[\n",
    "#           0].text.strip().replace('\\n', ''))\n",
    "# print(soup.select('.house-item.house-itemB.clearfix')[0].select('.item-info.fl')[0].select('.house-txt')[\n",
    "#           0].text.strip().replace('\\n', ''))\n",
    "# print(soup.select('.house-item.house-itemB.clearfix')[0].select('.item-info.fl')[0].select('.house-txt')[\n",
    "#           1].text.strip().replace('\\n', '').replace('\\xa0', ' '))\n",
    "# print(soup.select('.house-item.house-itemB.clearfix')[0].select('.item-pricearea.fr')[0].select('.price-nub.cRed')[\n",
    "#           0].text.strip().replace('\\n', ''))\n",
    "# print(soup.select('.house-item.house-itemB.clearfix')[0].select('.item-pricearea.fr')[0].select('.price-txt')[\n",
    "#           0].text.strip().replace('\\n', '').replace(' ', ''))\n",
    "# print(soup.select('.house-item.house-itemB.clearfix')[0].select('.item-pricearea.fr')[0].select('.price-txtB')[\n",
    "#           0].text.strip().replace('\\n', '').replace(' ', ''))"
   ],
   "id": "b16680afa112cb3c",
   "outputs": [],
   "execution_count": null
  },
  {
   "metadata": {},
   "cell_type": "code",
   "source": [
    "f = open('作业3 - 广州二手房.csv', 'w', encoding='utf-8')\n",
    "f.write('标题,信息1,信息2,地址,总价,单价,小区均价\\n')\n",
    "\n",
    "for tag_house in soup.select('.house-item.house-itemB.clearfix'):\n",
    "    title = tag_house.h4.text.strip()\n",
    "    tag_item_info = tag_house.select('.item-info.fl')[0]\n",
    "    house_name = tag_item_info.select('.house-name')[0].text.strip().replace('\\n', '')\n",
    "    house_info1 = tag_item_info.select('.house-txt')[0].text.strip().replace('\\n', '')\n",
    "    house_info2 = tag_item_info.select('.house-txt')[1].text.strip().replace('\\n', '')\n",
    "    tag_item_price_area = tag_house.select('.item-pricearea.fr')[0]\n",
    "    price_nub = tag_item_price_area.select('.price-nub.cRed')[0].text.strip().replace('\\n', '')\n",
    "    price_info1 = tag_item_price_area.select('.price-txt')[0].text.strip().replace('\\n', '').replace(' ', '')\n",
    "    price_info2 = tag_item_price_area.select('.price-txtB')[0].text.strip().replace('\\n', '').replace(' ', '')\n",
    "    f.write(','.join([title, house_name, house_info1, house_info2, price_nub, price_info1, price_info2]) + '\\n')\n",
    "    \n",
    "f.close()"
   ],
   "id": "f7e1abe2b744aded",
   "outputs": [],
   "execution_count": null
  },
  {
   "metadata": {},
   "cell_type": "code",
   "source": "",
   "id": "f804bad2da20f67a",
   "outputs": [],
   "execution_count": null
  }
 ],
 "metadata": {
  "kernelspec": {
   "display_name": "Python 3",
   "language": "python",
   "name": "python3"
  },
  "language_info": {
   "codemirror_mode": {
    "name": "ipython",
    "version": 2
   },
   "file_extension": ".py",
   "mimetype": "text/x-python",
   "name": "python",
   "nbconvert_exporter": "python",
   "pygments_lexer": "ipython2",
   "version": "2.7.6"
  }
 },
 "nbformat": 4,
 "nbformat_minor": 5
}
