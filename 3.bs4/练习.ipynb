{
 "cells": [
  {
   "metadata": {},
   "cell_type": "markdown",
   "source": "简单使用",
   "id": "8c8d805962795c31"
  },
  {
   "cell_type": "code",
   "id": "initial_id",
   "metadata": {
    "collapsed": true,
    "ExecuteTime": {
     "end_time": "2024-06-21T09:33:53.507011Z",
     "start_time": "2024-06-21T09:33:53.498946Z"
    }
   },
   "source": [
    "html_doc = \"\"\"\n",
    "<html><head><title>The Dormouse's story</title></head>\n",
    "<body>\n",
    "<p class=\"title\"><b>The Dormouse's story</b></p>\n",
    "\n",
    "<p class=\"story\">Once upon a time there were three little sisters; and their names were\n",
    "<a href=\"http://example.com/elsie\" class=\"sister\" id=\"link1\">Elsie</a>,\n",
    "<a href=\"http://example.com/lacie\" class=\"sister\" id=\"link2\">Lacie</a> and\n",
    "<a href=\"http://example.com/tillie\" class=\"sister\" id=\"link3\">Tillie</a>;\n",
    "and they lived at the bottom of a well.</p>\n",
    "\n",
    "<p class=\"story\">...</p>\n",
    "\"\"\""
   ],
   "outputs": [],
   "execution_count": 2
  },
  {
   "metadata": {
    "ExecuteTime": {
     "end_time": "2024-06-21T09:33:54.136655Z",
     "start_time": "2024-06-21T09:33:53.975975Z"
    }
   },
   "cell_type": "code",
   "source": [
    "from bs4 import BeautifulSoup\n",
    "soup = BeautifulSoup(html_doc, 'lxml')\n",
    "# html进行美化\n",
    "print(soup.prettify())\n",
    "print(soup.title)  # 获取标签title\n",
    "# <title>The Dormouse's story</title>\n",
    "\n",
    "print(soup.title.name)   # 获取标签名称\n",
    "# 'title'\n",
    "\n",
    "print(soup.title.string)   # 获取标签title内的内容\n",
    "# 'The Dormouse's story'\n",
    "\n",
    "print(soup.title.parent)  # 获取父级标签\n",
    "\n",
    "print(soup.title.parent.name)  # 获取父级标签名称\n",
    "# 'head'\n",
    "\n",
    "print(soup.p)\n",
    "# <p class=\"title\"><b>The Dormouse's story</b></p>\n",
    "\n",
    "print(soup.p['class'])  # 获取p的class属性值\n",
    "# 'title'\n",
    "\n",
    "print(soup.a)\n",
    "# <a class=\"sister\" href=\"http://example.com/elsie\" id=\"link1\">Elsie</a>\n",
    "\n",
    "print(soup.find_all('a'))\n",
    "# [<a class=\"sister\" href=\"http://example.com/elsie\" id=\"link1\">Elsie</a>,\n",
    "#  <a class=\"sister\" href=\"http://example.com/lacie\" id=\"link2\">Lacie</a>,\n",
    "#  <a class=\"sister\" href=\"http://example.com/tillie\" id=\"link3\">Tillie</a>]\n",
    "\n",
    "print(soup.find(id=\"link3\"))  # 获取id为link3的标签\n",
    "# <a class=\"sister\" href=\"http://example.com/tillie\" id=\"link3\">Tillie</a>\n",
    "for link in soup.find_all('a'):\n",
    "    print(link.get('href'))\n",
    "    \n",
    "print(soup.get_text())"
   ],
   "id": "16248d9cdbfc8433",
   "outputs": [
    {
     "name": "stdout",
     "output_type": "stream",
     "text": [
      "<html>\n",
      " <head>\n",
      "  <title>\n",
      "   The Dormouse's story\n",
      "  </title>\n",
      " </head>\n",
      " <body>\n",
      "  <p class=\"title\">\n",
      "   <b>\n",
      "    The Dormouse's story\n",
      "   </b>\n",
      "  </p>\n",
      "  <p class=\"story\">\n",
      "   Once upon a time there were three little sisters; and their names were\n",
      "   <a class=\"sister\" href=\"http://example.com/elsie\" id=\"link1\">\n",
      "    Elsie\n",
      "   </a>\n",
      "   ,\n",
      "   <a class=\"sister\" href=\"http://example.com/lacie\" id=\"link2\">\n",
      "    Lacie\n",
      "   </a>\n",
      "   and\n",
      "   <a class=\"sister\" href=\"http://example.com/tillie\" id=\"link3\">\n",
      "    Tillie\n",
      "   </a>\n",
      "   ;\n",
      "and they lived at the bottom of a well.\n",
      "  </p>\n",
      "  <p class=\"story\">\n",
      "   ...\n",
      "  </p>\n",
      " </body>\n",
      "</html>\n",
      "\n",
      "<title>The Dormouse's story</title>\n",
      "title\n",
      "The Dormouse's story\n",
      "<head><title>The Dormouse's story</title></head>\n",
      "head\n",
      "<p class=\"title\"><b>The Dormouse's story</b></p>\n",
      "['title']\n",
      "<a class=\"sister\" href=\"http://example.com/elsie\" id=\"link1\">Elsie</a>\n",
      "[<a class=\"sister\" href=\"http://example.com/elsie\" id=\"link1\">Elsie</a>, <a class=\"sister\" href=\"http://example.com/lacie\" id=\"link2\">Lacie</a>, <a class=\"sister\" href=\"http://example.com/tillie\" id=\"link3\">Tillie</a>]\n",
      "<a class=\"sister\" href=\"http://example.com/tillie\" id=\"link3\">Tillie</a>\n",
      "http://example.com/elsie\n",
      "http://example.com/lacie\n",
      "http://example.com/tillie\n",
      "The Dormouse's story\n",
      "\n",
      "The Dormouse's story\n",
      "Once upon a time there were three little sisters; and their names were\n",
      "Elsie,\n",
      "Lacie and\n",
      "Tillie;\n",
      "and they lived at the bottom of a well.\n",
      "...\n",
      "\n"
     ]
    }
   ],
   "execution_count": 3
  },
  {
   "metadata": {},
   "cell_type": "markdown",
   "source": "遍历文档树",
   "id": "4aadb167b59fd608"
  },
  {
   "metadata": {
    "ExecuteTime": {
     "end_time": "2024-06-21T09:33:56.501651Z",
     "start_time": "2024-06-21T09:33:56.481411Z"
    }
   },
   "cell_type": "code",
   "source": [
    "html_doc = \"\"\"\n",
    "<html><head><title>The Dormouse's story</title></head>\n",
    "    <body>\n",
    "<p class=\"title\"><b>The Dormouse's story</b></p>\n",
    "\n",
    "<p class=\"story\">Once upon a time there were three little sisters; and their names were\n",
    "<a href=\"http://example.com/elsie\" class=\"sister\" id=\"link1\">Elsie</a>,\n",
    "<a href=\"http://example.com/lacie\" class=\"sister\" id=\"link2\">Lacie</a> and\n",
    "<a href=\"http://example.com/tillie\" class=\"sister\" id=\"link3\">Tillie</a>;\n",
    "and they lived at the bottom of a well.</p>\n",
    "\n",
    "<p class=\"story\">...</p>\n",
    "\"\"\""
   ],
   "id": "2505b4fb70d24617",
   "outputs": [],
   "execution_count": 4
  },
  {
   "metadata": {
    "ExecuteTime": {
     "end_time": "2024-06-21T09:33:57.898165Z",
     "start_time": "2024-06-21T09:33:57.885757Z"
    }
   },
   "cell_type": "code",
   "source": [
    "from bs4 import BeautifulSoup\n",
    "# lxml和html.parser解析的有时候会根据html是否完整而有解析不同的问题，需要注意\n",
    "soup = BeautifulSoup(html_doc, 'html.parser')\n",
    "head_tag = soup.head\n",
    "print(head_tag)\n",
    "print(head_tag.contents)\n",
    "title_tag = head_tag.contents[0]\n",
    "print(title_tag)\n",
    "print(title_tag.contents)\n",
    "text = title_tag.contents[0]\n",
    "# print(text.contents)\n",
    "print(soup.head.string)\n",
    "print(soup.title.string)\n",
    "print(soup.html.string)\n",
    "print(soup.html.text)\n",
    "\n",
    "for string in soup.strings:\n",
    "    print(repr(string))\n",
    "    \n",
    "for string in soup.stripped_strings:\n",
    "    print(repr(string))\n",
    "    \n",
    "title_tag = soup.title\n",
    "print(title_tag)\n",
    "print(title_tag.parent)\n",
    "html_tag = soup.html\n",
    "\n",
    "# print(html_tag)\n",
    "print(type(html_tag.parent))"
   ],
   "id": "49cd92cab8a4a301",
   "outputs": [
    {
     "name": "stdout",
     "output_type": "stream",
     "text": [
      "<head><title>The Dormouse's story</title></head>\n",
      "[<title>The Dormouse's story</title>]\n",
      "<title>The Dormouse's story</title>\n",
      "[\"The Dormouse's story\"]\n",
      "The Dormouse's story\n",
      "The Dormouse's story\n",
      "None\n",
      "The Dormouse's story\n",
      "\n",
      "The Dormouse's story\n",
      "Once upon a time there were three little sisters; and their names were\n",
      "Elsie,\n",
      "Lacie and\n",
      "Tillie;\n",
      "and they lived at the bottom of a well.\n",
      "...\n",
      "\n",
      "'\\n'\n",
      "\"The Dormouse's story\"\n",
      "'\\n'\n",
      "'\\n'\n",
      "\"The Dormouse's story\"\n",
      "'\\n'\n",
      "'Once upon a time there were three little sisters; and their names were\\n'\n",
      "'Elsie'\n",
      "',\\n'\n",
      "'Lacie'\n",
      "' and\\n'\n",
      "'Tillie'\n",
      "';\\nand they lived at the bottom of a well.'\n",
      "'\\n'\n",
      "'...'\n",
      "'\\n'\n",
      "\"The Dormouse's story\"\n",
      "\"The Dormouse's story\"\n",
      "'Once upon a time there were three little sisters; and their names were'\n",
      "'Elsie'\n",
      "','\n",
      "'Lacie'\n",
      "'and'\n",
      "'Tillie'\n",
      "';\\nand they lived at the bottom of a well.'\n",
      "'...'\n",
      "<title>The Dormouse's story</title>\n",
      "<head><title>The Dormouse's story</title></head>\n",
      "<class 'bs4.BeautifulSoup'>\n"
     ]
    }
   ],
   "execution_count": 5
  },
  {
   "metadata": {},
   "cell_type": "markdown",
   "source": "搜索文档树",
   "id": "1c6534f80d6b6589"
  },
  {
   "metadata": {
    "ExecuteTime": {
     "end_time": "2024-06-21T09:35:36.382198Z",
     "start_time": "2024-06-21T09:35:36.359992Z"
    }
   },
   "cell_type": "code",
   "source": [
    "print(soup.find_all('title'))\n",
    "print(soup.find_all('p', 'title'))\n",
    "print(soup.find_all('a'))\n",
    "print(soup.find_all(id='link2'))\n",
    "import re\n",
    "print(soup.find_all(string=re.compile('sisters')))\n",
    "for tag in soup.find_all(re.compile('^b')):\n",
    "    print(tag.name)\n",
    "soup.find_all(['a','b'])\n",
    "print(soup.find_all(id='link2'))\n",
    "print(soup.find_all(href=re.compile('elsie')))\n",
    "print(soup.find_all(string=re.compile('^The')))\n",
    "print(soup.find_all(class_=re.compile('st')))\n",
    "print(soup.find_all(id=True))\n",
    "print(soup.find_all(href=re.compile('elsie'), id='link1'))\n",
    "print(soup.find_all(\"a\", class_=\"sister\"))\n",
    "print(soup.find_all(attrs={'data-foo': 'value'}))\n",
    "print(soup.find_all('b', class_='story', id='x'))\n",
    "print(soup.find_all(attrs={'class':'story', 'id': 'x'}))\n",
    "print(soup.find_all(string='Elsie'))\n",
    "print(soup.find_all(string=[\"Tillie\", \"Elsie\", \"Lacie\"]))\n",
    "print(soup.find_all(string=re.compile('Dormouse')))\n",
    "print(soup.find_all('a', limit=2))\n",
    "print(soup.find_all('a')[0:2])\n",
    "print(soup.find_all('title', limit=1))\n",
    "print(soup.find('title'))\n",
    "print(soup.find('nosuchtag'))\n",
    "print(soup.head.title)\n",
    "print(soup.find('head').find('title'))"
   ],
   "id": "c754ea969864fed0",
   "outputs": [
    {
     "name": "stdout",
     "output_type": "stream",
     "text": [
      "[<title>The Dormouse's story</title>]\n",
      "[<p class=\"title\"><b>The Dormouse's story</b></p>]\n",
      "[<a class=\"sister\" href=\"http://example.com/elsie\" id=\"link1\">Elsie</a>, <a class=\"sister\" href=\"http://example.com/lacie\" id=\"link2\">Lacie</a>, <a class=\"sister\" href=\"http://example.com/tillie\" id=\"link3\">Tillie</a>]\n",
      "[<a class=\"sister\" href=\"http://example.com/lacie\" id=\"link2\">Lacie</a>]\n",
      "['Once upon a time there were three little sisters; and their names were\\n']\n",
      "body\n",
      "b\n",
      "[<a class=\"sister\" href=\"http://example.com/lacie\" id=\"link2\">Lacie</a>]\n",
      "[<a class=\"sister\" href=\"http://example.com/elsie\" id=\"link1\">Elsie</a>]\n",
      "[\"The Dormouse's story\", \"The Dormouse's story\"]\n",
      "[<p class=\"story\">Once upon a time there were three little sisters; and their names were\n",
      "<a class=\"sister\" href=\"http://example.com/elsie\" id=\"link1\">Elsie</a>,\n",
      "<a class=\"sister\" href=\"http://example.com/lacie\" id=\"link2\">Lacie</a> and\n",
      "<a class=\"sister\" href=\"http://example.com/tillie\" id=\"link3\">Tillie</a>;\n",
      "and they lived at the bottom of a well.</p>, <a class=\"sister\" href=\"http://example.com/elsie\" id=\"link1\">Elsie</a>, <a class=\"sister\" href=\"http://example.com/lacie\" id=\"link2\">Lacie</a>, <a class=\"sister\" href=\"http://example.com/tillie\" id=\"link3\">Tillie</a>, <p class=\"story\">...</p>]\n",
      "[<a class=\"sister\" href=\"http://example.com/elsie\" id=\"link1\">Elsie</a>, <a class=\"sister\" href=\"http://example.com/lacie\" id=\"link2\">Lacie</a>, <a class=\"sister\" href=\"http://example.com/tillie\" id=\"link3\">Tillie</a>]\n",
      "[<a class=\"sister\" href=\"http://example.com/elsie\" id=\"link1\">Elsie</a>]\n",
      "[<a class=\"sister\" href=\"http://example.com/elsie\" id=\"link1\">Elsie</a>, <a class=\"sister\" href=\"http://example.com/lacie\" id=\"link2\">Lacie</a>, <a class=\"sister\" href=\"http://example.com/tillie\" id=\"link3\">Tillie</a>]\n",
      "[]\n",
      "[]\n",
      "[]\n",
      "['Elsie']\n",
      "['Elsie', 'Lacie', 'Tillie']\n",
      "[\"The Dormouse's story\", \"The Dormouse's story\"]\n",
      "[<a class=\"sister\" href=\"http://example.com/elsie\" id=\"link1\">Elsie</a>, <a class=\"sister\" href=\"http://example.com/lacie\" id=\"link2\">Lacie</a>]\n",
      "[<a class=\"sister\" href=\"http://example.com/elsie\" id=\"link1\">Elsie</a>, <a class=\"sister\" href=\"http://example.com/lacie\" id=\"link2\">Lacie</a>]\n",
      "[<title>The Dormouse's story</title>]\n",
      "<title>The Dormouse's story</title>\n",
      "None\n",
      "<title>The Dormouse's story</title>\n",
      "<title>The Dormouse's story</title>\n"
     ]
    }
   ],
   "execution_count": 9
  },
  {
   "metadata": {},
   "cell_type": "markdown",
   "source": "css选择器",
   "id": "22cbcfebec215b26"
  },
  {
   "metadata": {
    "ExecuteTime": {
     "end_time": "2024-06-21T09:39:43.175894Z",
     "start_time": "2024-06-21T09:39:43.159707Z"
    }
   },
   "cell_type": "code",
   "source": [
    "print(soup.select('title'))\n",
    "print(soup.select('b'))\n",
    "print(soup.select('.sister'))\n",
    "print(soup.select('#link1'))\n",
    "print(soup.select(\"p #link2\"))\n",
    "print(soup.select('p > #link2'))\n",
    "print(soup.select('.story#test'))\n",
    "print(soup.select('.story.test'))\n",
    "print(soup.select(\".story.test#book\"))"
   ],
   "id": "74e87baccf0bd82e",
   "outputs": [
    {
     "name": "stdout",
     "output_type": "stream",
     "text": [
      "[]\n"
     ]
    }
   ],
   "execution_count": 21
  },
  {
   "metadata": {
    "ExecuteTime": {
     "end_time": "2024-06-21T09:40:21.837554Z",
     "start_time": "2024-06-21T09:40:21.818723Z"
    }
   },
   "cell_type": "code",
   "source": "print(soup.select(\"a[href='http://example.com/tillie']\"))",
   "id": "cdf6dccadd701911",
   "outputs": [
    {
     "name": "stdout",
     "output_type": "stream",
     "text": [
      "[<a class=\"sister\" href=\"http://example.com/tillie\" id=\"link3\">Tillie</a>]\n"
     ]
    }
   ],
   "execution_count": 22
  },
  {
   "metadata": {
    "ExecuteTime": {
     "end_time": "2024-06-21T09:41:07.775395Z",
     "start_time": "2024-06-21T09:41:07.758769Z"
    }
   },
   "cell_type": "code",
   "source": [
    "for title in soup.select('a'):\n",
    "    print(title.get_text())"
   ],
   "id": "75cad81249054aa6",
   "outputs": [
    {
     "name": "stdout",
     "output_type": "stream",
     "text": [
      "Elsie\n",
      "Lacie\n",
      "Tillie\n"
     ]
    }
   ],
   "execution_count": 23
  },
  {
   "metadata": {},
   "cell_type": "code",
   "outputs": [],
   "execution_count": null,
   "source": "",
   "id": "fc989ebe8e9c66a7"
  }
 ],
 "metadata": {
  "kernelspec": {
   "display_name": "Python 3",
   "language": "python",
   "name": "python3"
  },
  "language_info": {
   "codemirror_mode": {
    "name": "ipython",
    "version": 2
   },
   "file_extension": ".py",
   "mimetype": "text/x-python",
   "name": "python",
   "nbconvert_exporter": "python",
   "pygments_lexer": "ipython2",
   "version": "2.7.6"
  }
 },
 "nbformat": 4,
 "nbformat_minor": 5
}
