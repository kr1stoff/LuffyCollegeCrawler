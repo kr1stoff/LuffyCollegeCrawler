{
 "cells": [
  {
   "metadata": {},
   "cell_type": "markdown",
   "source": "简单使用",
   "id": "8c8d805962795c31"
  },
  {
   "cell_type": "code",
   "id": "initial_id",
   "metadata": {
    "collapsed": true
   },
   "source": [
    "html_doc = \"\"\"\n",
    "<html><head><title>The Dormouse's story</title></head>\n",
    "<body>\n",
    "<p class=\"title\"><b>The Dormouse's story</b></p>\n",
    "\n",
    "<p class=\"story\">Once upon a time there were three little sisters; and their names were\n",
    "<a href=\"http://example.com/elsie\" class=\"sister\" id=\"link1\">Elsie</a>,\n",
    "<a href=\"http://example.com/lacie\" class=\"sister\" id=\"link2\">Lacie</a> and\n",
    "<a href=\"http://example.com/tillie\" class=\"sister\" id=\"link3\">Tillie</a>;\n",
    "and they lived at the bottom of a well.</p>\n",
    "\n",
    "<p class=\"story\">...</p>\n",
    "\"\"\""
   ],
   "outputs": [],
   "execution_count": null
  },
  {
   "metadata": {},
   "cell_type": "code",
   "source": [
    "from bs4 import BeautifulSoup\n",
    "soup = BeautifulSoup(html_doc, 'lxml')\n",
    "# html进行美化\n",
    "print(soup.prettify())"
   ],
   "id": "76a34c4f4e392fe9",
   "outputs": [],
   "execution_count": null
  },
  {
   "metadata": {},
   "cell_type": "code",
   "source": [
    "print(soup.title)  # 获取标签title\n",
    "# <title>The Dormouse's story</title>\n",
    "\n",
    "print(soup.title.name)   # 获取标签名称\n",
    "# 'title'\n",
    "\n",
    "print(soup.title.string)   # 获取标签title内的内容\n",
    "# 'The Dormouse's story'\n",
    "\n",
    "print(soup.title.parent)  # 获取父级标签\n",
    "\n",
    "print(soup.title.parent.name)  # 获取父级标签名称\n",
    "# 'head'\n",
    "\n",
    "print(soup.p)\n",
    "# <p class=\"title\"><b>The Dormouse's story</b></p>\n",
    "\n",
    "print(soup.p['class'])  # 获取p的class属性值\n",
    "# 'title'\n",
    "\n",
    "print(soup.a)\n",
    "# <a class=\"sister\" href=\"http://example.com/elsie\" id=\"link1\">Elsie</a>\n",
    "\n",
    "print(soup.find_all('a'))\n",
    "# [<a class=\"sister\" href=\"http://example.com/elsie\" id=\"link1\">Elsie</a>,\n",
    "#  <a class=\"sister\" href=\"http://example.com/lacie\" id=\"link2\">Lacie</a>,\n",
    "#  <a class=\"sister\" href=\"http://example.com/tillie\" id=\"link3\">Tillie</a>]\n",
    "\n",
    "print(soup.find(id=\"link3\"))  # 获取id为link3的标签\n",
    "# <a class=\"sister\" href=\"http://example.com/tillie\" id=\"link3\">Tillie</a>\n",
    "for link in soup.find_all('a'):\n",
    "    print(link.get('href'))\n",
    "    \n",
    "print(soup.get_text())"
   ],
   "id": "16248d9cdbfc8433",
   "outputs": [],
   "execution_count": null
  },
  {
   "metadata": {},
   "cell_type": "markdown",
   "source": "遍历文档树",
   "id": "4aadb167b59fd608"
  },
  {
   "metadata": {},
   "cell_type": "code",
   "source": [
    "html_doc = \"\"\"\n",
    "<html><head><title>The Dormouse's story</title></head>\n",
    "    <body>\n",
    "<p class=\"title\"><b>The Dormouse's story</b></p>\n",
    "\n",
    "<p class=\"story\">Once upon a time there were three little sisters; and their names were\n",
    "<a href=\"http://example.com/elsie\" class=\"sister\" id=\"link1\">Elsie</a>,\n",
    "<a href=\"http://example.com/lacie\" class=\"sister\" id=\"link2\">Lacie</a> and\n",
    "<a href=\"http://example.com/tillie\" class=\"sister\" id=\"link3\">Tillie</a>;\n",
    "and they lived at the bottom of a well.</p>\n",
    "\n",
    "<p class=\"story\">...</p>\n",
    "\"\"\""
   ],
   "id": "2505b4fb70d24617",
   "outputs": [],
   "execution_count": null
  },
  {
   "metadata": {},
   "cell_type": "code",
   "source": [
    "from bs4 import BeautifulSoup\n",
    "# lxml和html.parser解析的有时候会根据html是否完整而有解析不同的问题，需要注意\n",
    "soup = BeautifulSoup(html_doc, 'html.parser')\n",
    "head_tag = soup.head\n",
    "print(head_tag)\n",
    "print(head_tag.contents)\n",
    "title_tag = head_tag.contents[0]\n",
    "print(title_tag)\n",
    "print(title_tag.contents)\n",
    "text = title_tag.contents[0]\n",
    "# print(text.contents)\n",
    "print(soup.head.string)\n",
    "print(soup.title.string)\n",
    "print(soup.html.string)\n",
    "print(soup.html.text)\n",
    "\n",
    "for string in soup.strings:\n",
    "    print(repr(string))\n",
    "    \n",
    "for string in soup.stripped_strings:\n",
    "    print(repr(string))\n",
    "    \n",
    "title_tag = soup.title\n",
    "print(title_tag)\n",
    "print(title_tag.parent)\n",
    "html_tag = soup.html\n",
    "\n",
    "# print(html_tag)\n",
    "print(type(html_tag.parent))"
   ],
   "id": "49cd92cab8a4a301",
   "outputs": [],
   "execution_count": null
  },
  {
   "metadata": {},
   "cell_type": "markdown",
   "source": "搜索文档树",
   "id": "1c6534f80d6b6589"
  },
  {
   "metadata": {
    "ExecuteTime": {
     "end_time": "2024-06-21T02:50:30.893126Z",
     "start_time": "2024-06-21T02:50:30.878308Z"
    }
   },
   "cell_type": "code",
   "source": [
    "print(soup.find_all('title'))\n",
    "print(soup.find_all('p', 'title'))\n",
    "print(soup.find_all('a'))\n",
    "print(soup.find_all(id='link2'))\n",
    "import re\n",
    "print(soup.find_all(string=re.compile('sisters')))\n",
    "for tag in soup.find_all(re.compile('^b')):\n",
    "    print(tag.name)\n",
    "soup.find_all(['a','b'])\n",
    "print(soup.find_all(id='link2'))\n",
    "print(soup.find_all(href=re.compile('elsie')))\n",
    "print(soup.find_all(text=re.compile('^The')))\n",
    "print(soup.find_all(class_=re.compile('st')))\n",
    "print(soup.find_all(id=True))\n",
    "print(soup.find_all(href=re.compile('elsie'), id='link1'))\n",
    "print(soup.find_all(\"a\", class_=\"sister\"))\n",
    "print(soup.find_all(attrs={'data-foo': 'value'}))\n",
    "print(soup.find_all('b', class_='story', id='x'))\n",
    "print(soup.find_all(attrs={'class':'story', 'id': 'x'}))\n",
    "print(soup.find_all(text='Elsie'))\n",
    "print(soup.find_all(text=[\"Tillie\", \"Elsie\", \"Lacie\"]))\n",
    "print(soup.find_all(text=re.compile('Dormouse')))\n",
    "print(soup.find_all('a', limit=2))\n",
    "print(soup.find_all('a')[0:2])"
   ],
   "id": "c211188d05583d4c",
   "outputs": [
    {
     "name": "stdout",
     "output_type": "stream",
     "text": [
      "[<a class=\"sister\" href=\"http://example.com/elsie\" id=\"link1\">Elsie</a>, <a class=\"sister\" href=\"http://example.com/lacie\" id=\"link2\">Lacie</a>]\n"
     ]
    }
   ],
   "execution_count": 75
  },
  {
   "metadata": {
    "ExecuteTime": {
     "end_time": "2024-06-21T02:51:14.527124Z",
     "start_time": "2024-06-21T02:51:14.511489Z"
    }
   },
   "cell_type": "code",
   "source": [
    "print(soup.find_all('title', limit=1))\n",
    "print(soup.find('title'))"
   ],
   "id": "c4e3153ba684b819",
   "outputs": [
    {
     "name": "stdout",
     "output_type": "stream",
     "text": [
      "[<title>The Dormouse's story</title>]\n",
      "<title>The Dormouse's story</title>\n"
     ]
    }
   ],
   "execution_count": 76
  },
  {
   "metadata": {
    "ExecuteTime": {
     "end_time": "2024-06-21T02:51:33.381103Z",
     "start_time": "2024-06-21T02:51:33.365483Z"
    }
   },
   "cell_type": "code",
   "source": "print(soup.find('nosuchtag'))",
   "id": "f184ea805010143c",
   "outputs": [
    {
     "name": "stdout",
     "output_type": "stream",
     "text": [
      "None\n"
     ]
    }
   ],
   "execution_count": 77
  },
  {
   "metadata": {
    "ExecuteTime": {
     "end_time": "2024-06-21T02:51:48.158071Z",
     "start_time": "2024-06-21T02:51:48.142235Z"
    }
   },
   "cell_type": "code",
   "source": "print(soup.head.title)",
   "id": "55ca79001f9d831f",
   "outputs": [
    {
     "name": "stdout",
     "output_type": "stream",
     "text": [
      "<title>The Dormouse's story</title>\n"
     ]
    }
   ],
   "execution_count": 78
  },
  {
   "metadata": {
    "ExecuteTime": {
     "end_time": "2024-06-21T02:52:05.489647Z",
     "start_time": "2024-06-21T02:52:05.474033Z"
    }
   },
   "cell_type": "code",
   "source": "soup.find('head').find('title')",
   "id": "c754ea969864fed0",
   "outputs": [
    {
     "data": {
      "text/plain": [
       "<title>The Dormouse's story</title>"
      ]
     },
     "execution_count": 79,
     "metadata": {},
     "output_type": "execute_result"
    }
   ],
   "execution_count": 79
  },
  {
   "metadata": {},
   "cell_type": "code",
   "outputs": [],
   "execution_count": null,
   "source": "",
   "id": "669b72bf1b643e0b"
  }
 ],
 "metadata": {
  "kernelspec": {
   "display_name": "Python 3",
   "language": "python",
   "name": "python3"
  },
  "language_info": {
   "codemirror_mode": {
    "name": "ipython",
    "version": 2
   },
   "file_extension": ".py",
   "mimetype": "text/x-python",
   "name": "python",
   "nbconvert_exporter": "python",
   "pygments_lexer": "ipython2",
   "version": "2.7.6"
  }
 },
 "nbformat": 4,
 "nbformat_minor": 5
}
