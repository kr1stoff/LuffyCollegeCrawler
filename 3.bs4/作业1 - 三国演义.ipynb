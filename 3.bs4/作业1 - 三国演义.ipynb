{
 "cells": [
  {
   "metadata": {
    "ExecuteTime": {
     "end_time": "2024-06-21T10:31:50.982592Z",
     "start_time": "2024-06-21T10:31:50.948501Z"
    }
   },
   "cell_type": "code",
   "source": [
    "from bs4 import BeautifulSoup\n",
    "\n",
    "# 进行请求\n",
    "# 获取页面内容\n",
    "con = open('三国演义.html', 'r', encoding='utf-8')\n",
    "# 参数 页面内容  解析器\n",
    "soup = BeautifulSoup(con, 'lxml')\n",
    "title_list = soup.select('.book-mulu>ul>li>a')\n",
    "\n",
    "with open('爬取三国演义.html', 'w', encoding='GBK') as f:\n",
    "    for t in title_list:\n",
    "        # 输出文章标题\n",
    "        title = t.text\n",
    "        # 获取文章地址\n",
    "        href = t['href']\n",
    "        url = 'https://www.shicimingju.com/'+href\n",
    "        print(url)\n",
    "        f.write(f\"<a href='{url}' target='_blank'>{title}</a>\"+'<br />')"
   ],
   "id": "b0868563d9bc705",
   "outputs": [
    {
     "name": "stdout",
     "output_type": "stream",
     "text": [
      "https://www.shicimingju.com//book/sanguoyanyi/1.html\n",
      "https://www.shicimingju.com//book/sanguoyanyi/2.html\n",
      "https://www.shicimingju.com//book/sanguoyanyi/3.html\n",
      "https://www.shicimingju.com//book/sanguoyanyi/4.html\n",
      "https://www.shicimingju.com//book/sanguoyanyi/5.html\n",
      "https://www.shicimingju.com//book/sanguoyanyi/6.html\n",
      "https://www.shicimingju.com//book/sanguoyanyi/7.html\n",
      "https://www.shicimingju.com//book/sanguoyanyi/8.html\n",
      "https://www.shicimingju.com//book/sanguoyanyi/9.html\n",
      "https://www.shicimingju.com//book/sanguoyanyi/10.html\n",
      "https://www.shicimingju.com//book/sanguoyanyi/11.html\n",
      "https://www.shicimingju.com//book/sanguoyanyi/12.html\n",
      "https://www.shicimingju.com//book/sanguoyanyi/13.html\n",
      "https://www.shicimingju.com//book/sanguoyanyi/14.html\n",
      "https://www.shicimingju.com//book/sanguoyanyi/15.html\n",
      "https://www.shicimingju.com//book/sanguoyanyi/16.html\n",
      "https://www.shicimingju.com//book/sanguoyanyi/17.html\n",
      "https://www.shicimingju.com//book/sanguoyanyi/18.html\n",
      "https://www.shicimingju.com//book/sanguoyanyi/19.html\n",
      "https://www.shicimingju.com//book/sanguoyanyi/20.html\n",
      "https://www.shicimingju.com//book/sanguoyanyi/21.html\n",
      "https://www.shicimingju.com//book/sanguoyanyi/22.html\n",
      "https://www.shicimingju.com//book/sanguoyanyi/23.html\n",
      "https://www.shicimingju.com//book/sanguoyanyi/24.html\n",
      "https://www.shicimingju.com//book/sanguoyanyi/25.html\n",
      "https://www.shicimingju.com//book/sanguoyanyi/26.html\n",
      "https://www.shicimingju.com//book/sanguoyanyi/27.html\n",
      "https://www.shicimingju.com//book/sanguoyanyi/28.html\n",
      "https://www.shicimingju.com//book/sanguoyanyi/29.html\n",
      "https://www.shicimingju.com//book/sanguoyanyi/30.html\n",
      "https://www.shicimingju.com//book/sanguoyanyi/31.html\n",
      "https://www.shicimingju.com//book/sanguoyanyi/32.html\n",
      "https://www.shicimingju.com//book/sanguoyanyi/33.html\n",
      "https://www.shicimingju.com//book/sanguoyanyi/34.html\n",
      "https://www.shicimingju.com//book/sanguoyanyi/35.html\n",
      "https://www.shicimingju.com//book/sanguoyanyi/36.html\n",
      "https://www.shicimingju.com//book/sanguoyanyi/37.html\n",
      "https://www.shicimingju.com//book/sanguoyanyi/38.html\n",
      "https://www.shicimingju.com//book/sanguoyanyi/39.html\n",
      "https://www.shicimingju.com//book/sanguoyanyi/40.html\n",
      "https://www.shicimingju.com//book/sanguoyanyi/41.html\n",
      "https://www.shicimingju.com//book/sanguoyanyi/42.html\n",
      "https://www.shicimingju.com//book/sanguoyanyi/43.html\n",
      "https://www.shicimingju.com//book/sanguoyanyi/44.html\n",
      "https://www.shicimingju.com//book/sanguoyanyi/45.html\n",
      "https://www.shicimingju.com//book/sanguoyanyi/46.html\n",
      "https://www.shicimingju.com//book/sanguoyanyi/47.html\n",
      "https://www.shicimingju.com//book/sanguoyanyi/48.html\n",
      "https://www.shicimingju.com//book/sanguoyanyi/49.html\n",
      "https://www.shicimingju.com//book/sanguoyanyi/50.html\n",
      "https://www.shicimingju.com//book/sanguoyanyi/51.html\n",
      "https://www.shicimingju.com//book/sanguoyanyi/52.html\n",
      "https://www.shicimingju.com//book/sanguoyanyi/53.html\n",
      "https://www.shicimingju.com//book/sanguoyanyi/54.html\n",
      "https://www.shicimingju.com//book/sanguoyanyi/55.html\n",
      "https://www.shicimingju.com//book/sanguoyanyi/56.html\n",
      "https://www.shicimingju.com//book/sanguoyanyi/57.html\n",
      "https://www.shicimingju.com//book/sanguoyanyi/58.html\n",
      "https://www.shicimingju.com//book/sanguoyanyi/59.html\n",
      "https://www.shicimingju.com//book/sanguoyanyi/60.html\n",
      "https://www.shicimingju.com//book/sanguoyanyi/61.html\n",
      "https://www.shicimingju.com//book/sanguoyanyi/62.html\n",
      "https://www.shicimingju.com//book/sanguoyanyi/63.html\n",
      "https://www.shicimingju.com//book/sanguoyanyi/64.html\n",
      "https://www.shicimingju.com//book/sanguoyanyi/65.html\n",
      "https://www.shicimingju.com//book/sanguoyanyi/66.html\n",
      "https://www.shicimingju.com//book/sanguoyanyi/67.html\n",
      "https://www.shicimingju.com//book/sanguoyanyi/68.html\n",
      "https://www.shicimingju.com//book/sanguoyanyi/69.html\n",
      "https://www.shicimingju.com//book/sanguoyanyi/70.html\n",
      "https://www.shicimingju.com//book/sanguoyanyi/71.html\n",
      "https://www.shicimingju.com//book/sanguoyanyi/72.html\n",
      "https://www.shicimingju.com//book/sanguoyanyi/73.html\n",
      "https://www.shicimingju.com//book/sanguoyanyi/74.html\n",
      "https://www.shicimingju.com//book/sanguoyanyi/75.html\n",
      "https://www.shicimingju.com//book/sanguoyanyi/76.html\n",
      "https://www.shicimingju.com//book/sanguoyanyi/77.html\n",
      "https://www.shicimingju.com//book/sanguoyanyi/78.html\n",
      "https://www.shicimingju.com//book/sanguoyanyi/79.html\n",
      "https://www.shicimingju.com//book/sanguoyanyi/80.html\n",
      "https://www.shicimingju.com//book/sanguoyanyi/81.html\n",
      "https://www.shicimingju.com//book/sanguoyanyi/82.html\n",
      "https://www.shicimingju.com//book/sanguoyanyi/83.html\n",
      "https://www.shicimingju.com//book/sanguoyanyi/84.html\n",
      "https://www.shicimingju.com//book/sanguoyanyi/85.html\n",
      "https://www.shicimingju.com//book/sanguoyanyi/86.html\n",
      "https://www.shicimingju.com//book/sanguoyanyi/87.html\n",
      "https://www.shicimingju.com//book/sanguoyanyi/88.html\n",
      "https://www.shicimingju.com//book/sanguoyanyi/89.html\n",
      "https://www.shicimingju.com//book/sanguoyanyi/90.html\n",
      "https://www.shicimingju.com//book/sanguoyanyi/91.html\n",
      "https://www.shicimingju.com//book/sanguoyanyi/92.html\n",
      "https://www.shicimingju.com//book/sanguoyanyi/93.html\n",
      "https://www.shicimingju.com//book/sanguoyanyi/94.html\n",
      "https://www.shicimingju.com//book/sanguoyanyi/95.html\n",
      "https://www.shicimingju.com//book/sanguoyanyi/96.html\n",
      "https://www.shicimingju.com//book/sanguoyanyi/97.html\n",
      "https://www.shicimingju.com//book/sanguoyanyi/98.html\n",
      "https://www.shicimingju.com//book/sanguoyanyi/99.html\n",
      "https://www.shicimingju.com//book/sanguoyanyi/100.html\n",
      "https://www.shicimingju.com//book/sanguoyanyi/101.html\n",
      "https://www.shicimingju.com//book/sanguoyanyi/102.html\n",
      "https://www.shicimingju.com//book/sanguoyanyi/103.html\n",
      "https://www.shicimingju.com//book/sanguoyanyi/104.html\n",
      "https://www.shicimingju.com//book/sanguoyanyi/105.html\n",
      "https://www.shicimingju.com//book/sanguoyanyi/106.html\n",
      "https://www.shicimingju.com//book/sanguoyanyi/107.html\n",
      "https://www.shicimingju.com//book/sanguoyanyi/108.html\n",
      "https://www.shicimingju.com//book/sanguoyanyi/109.html\n",
      "https://www.shicimingju.com//book/sanguoyanyi/110.html\n",
      "https://www.shicimingju.com//book/sanguoyanyi/111.html\n",
      "https://www.shicimingju.com//book/sanguoyanyi/112.html\n",
      "https://www.shicimingju.com//book/sanguoyanyi/113.html\n",
      "https://www.shicimingju.com//book/sanguoyanyi/114.html\n",
      "https://www.shicimingju.com//book/sanguoyanyi/115.html\n",
      "https://www.shicimingju.com//book/sanguoyanyi/116.html\n",
      "https://www.shicimingju.com//book/sanguoyanyi/117.html\n",
      "https://www.shicimingju.com//book/sanguoyanyi/118.html\n",
      "https://www.shicimingju.com//book/sanguoyanyi/119.html\n",
      "https://www.shicimingju.com//book/sanguoyanyi/120.html\n"
     ]
    }
   ],
   "execution_count": 24
  },
  {
   "metadata": {
    "ExecuteTime": {
     "end_time": "2024-06-21T10:17:01.696482Z",
     "start_time": "2024-06-21T10:17:01.690754Z"
    }
   },
   "cell_type": "code",
   "source": "from bs4 import BeautifulSoup",
   "id": "cf1d440a1e9f216b",
   "outputs": [],
   "execution_count": 10
  },
  {
   "metadata": {
    "ExecuteTime": {
     "end_time": "2024-06-21T10:22:36.208031Z",
     "start_time": "2024-06-21T10:22:36.138543Z"
    }
   },
   "cell_type": "code",
   "source": "soup = BeautifulSoup(open('三国演义.html', encoding='utf-8'), 'html.parser')",
   "id": "7ec8618a527b790b",
   "outputs": [],
   "execution_count": 12
  },
  {
   "metadata": {
    "ExecuteTime": {
     "end_time": "2024-06-21T10:44:58.388061Z",
     "start_time": "2024-06-21T10:44:58.375478Z"
    }
   },
   "cell_type": "code",
   "source": [
    "with open('作业1 - 三国演义.html', 'w', encoding='utf-8') as f:\n",
    "    for tag_anchor in soup.select('.book-mulu')[0].find_all('a'):\n",
    "        chapter = tag_anchor.get_text()\n",
    "        href = tag_anchor['href']\n",
    "        f.write(f'<a target=\"blank_\" href=https://www.shicimingju.com/{href}>{chapter}</a><br>')"
   ],
   "id": "791f0882c9996e19",
   "outputs": [],
   "execution_count": 39
  },
  {
   "metadata": {},
   "cell_type": "code",
   "outputs": [],
   "execution_count": null,
   "source": "",
   "id": "3f5d156076a6db8"
  }
 ],
 "metadata": {
  "kernelspec": {
   "display_name": "Python 3",
   "language": "python",
   "name": "python3"
  },
  "language_info": {
   "codemirror_mode": {
    "name": "ipython",
    "version": 2
   },
   "file_extension": ".py",
   "mimetype": "text/x-python",
   "name": "python",
   "nbconvert_exporter": "python",
   "pygments_lexer": "ipython2",
   "version": "2.7.6"
  }
 },
 "nbformat": 4,
 "nbformat_minor": 5
}
