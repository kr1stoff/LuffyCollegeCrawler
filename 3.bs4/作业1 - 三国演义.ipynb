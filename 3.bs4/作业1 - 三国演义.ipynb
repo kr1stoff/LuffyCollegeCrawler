{
 "cells": [
  {
   "metadata": {},
   "cell_type": "code",
   "source": "from bs4 import BeautifulSoup",
   "id": "cf1d440a1e9f216b",
   "outputs": [],
   "execution_count": null
  },
  {
   "metadata": {},
   "cell_type": "code",
   "source": "soup = BeautifulSoup(open('三国演义.html', encoding='utf-8'), 'html.parser')",
   "id": "7ec8618a527b790b",
   "outputs": [],
   "execution_count": null
  },
  {
   "metadata": {},
   "cell_type": "code",
   "source": [
    "with open('作业1 - 三国演义.html', 'w', encoding='utf-8') as f:\n",
    "    for tag_anchor in soup.select('.book-mulu')[0].find_all('a'):\n",
    "        chapter = tag_anchor.get_text()\n",
    "        href = tag_anchor['href']\n",
    "        f.write(f'<a target=\"blank_\" href=https://www.shicimingju.com/{href}>{chapter}</a><br>')"
   ],
   "id": "791f0882c9996e19",
   "outputs": [],
   "execution_count": null
  },
  {
   "metadata": {},
   "cell_type": "code",
   "source": "",
   "id": "3f5d156076a6db8",
   "outputs": [],
   "execution_count": null
  }
 ],
 "metadata": {
  "kernelspec": {
   "display_name": "Python 3",
   "language": "python",
   "name": "python3"
  },
  "language_info": {
   "codemirror_mode": {
    "name": "ipython",
    "version": 2
   },
   "file_extension": ".py",
   "mimetype": "text/x-python",
   "name": "python",
   "nbconvert_exporter": "python",
   "pygments_lexer": "ipython2",
   "version": "2.7.6"
  }
 },
 "nbformat": 4,
 "nbformat_minor": 5
}
