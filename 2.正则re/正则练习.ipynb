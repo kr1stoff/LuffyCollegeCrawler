{
 "cells": [
  {
   "metadata": {
    "ExecuteTime": {
     "end_time": "2024-06-17T10:01:20.026508Z",
     "start_time": "2024-06-17T10:01:20.013893Z"
    }
   },
   "cell_type": "code",
   "source": "import re",
   "id": "a8b9479e35e8dd97",
   "execution_count": 19,
   "outputs": []
  },
  {
   "metadata": {
    "ExecuteTime": {
     "end_time": "2024-06-17T10:10:26.761347Z",
     "start_time": "2024-06-17T10:10:26.740421Z"
    }
   },
   "cell_type": "code",
   "source": [
    "res = re.search('<b>.+?</b>', '<b>b标签</b><b>b标签</b>')\n",
    "res"
   ],
   "id": "a763790cb1364364",
   "execution_count": 46,
   "outputs": []
  },
  {
   "metadata": {
    "ExecuteTime": {
     "end_time": "2024-06-17T10:10:34.244939Z",
     "start_time": "2024-06-17T10:10:34.223527Z"
    }
   },
   "cell_type": "code",
   "source": [
    "res = re.search('<b>.*?</b>', '<b>b标签</b><b>b标签</b><b>b标签</b><b>b标签</b>')\n",
    "res"
   ],
   "id": "7a608695e7b3eff9",
   "execution_count": 47,
   "outputs": []
  },
  {
   "metadata": {
    "ExecuteTime": {
     "end_time": "2024-06-17T10:08:54.653518Z",
     "start_time": "2024-06-17T10:08:54.645Z"
    }
   },
   "cell_type": "code",
   "source": [
    "res = re.search('<b>.+</b>', '<b></b><b>b标签</b>')\n",
    "res[0]"
   ],
   "id": "ee44a74bc9668e92",
   "execution_count": 42,
   "outputs": []
  },
  {
   "metadata": {
    "ExecuteTime": {
     "end_time": "2024-06-17T10:10:02.118780Z",
     "start_time": "2024-06-17T10:10:02.105665Z"
    }
   },
   "cell_type": "code",
   "source": [
    "res = re.search('<b>.*</b>', '<b>b标签</b><b>b标签</b><b>b标签</b><b>b标签</b>')\n",
    "res"
   ],
   "id": "a28207b66e599b64",
   "execution_count": 45,
   "outputs": []
  },
  {
   "metadata": {
    "ExecuteTime": {
     "end_time": "2024-06-17T10:03:28.224041Z",
     "start_time": "2024-06-17T10:03:28.215849Z"
    }
   },
   "cell_type": "code",
   "source": [
    "re_phone = re.compile(r\"(0\\d{2,3}-\\d{7,8})\")\n",
    "print(re_phone, type(re_phone))"
   ],
   "id": "b0ba522d034e5ed9",
   "execution_count": 26,
   "outputs": []
  },
  {
   "metadata": {
    "ExecuteTime": {
     "end_time": "2024-06-17T10:07:48.234625Z",
     "start_time": "2024-06-17T10:07:48.217801Z"
    }
   },
   "cell_type": "code",
   "source": [
    "s1 = \"lucky's phone is 010-88888888\"\n",
    "s2 = \"kaige's phone is 010-99999999\"\n",
    "ret1 = re_phone.search(s1)\n",
    "print(ret1, ret1.group(1))\n",
    "ret2 = re_phone.search(s2)\n",
    "print(ret2, ret2.group(1))"
   ],
   "id": "3d84c847cec0a345",
   "execution_count": 35,
   "outputs": []
  },
  {
   "metadata": {
    "ExecuteTime": {
     "end_time": "2024-06-17T10:03:03.141915Z",
     "start_time": "2024-06-17T10:03:03.134363Z"
    }
   },
   "cell_type": "code",
   "source": [
    "#给当前匹配到的结果起别名\n",
    "s = '3G4HFD567'\n",
    "x = re.match(\"(?P<value>\\d+)\",s)\n",
    "print(x.group(0))\n",
    "print(x.group('value'))"
   ],
   "id": "41836513c9f1417c",
   "execution_count": 25,
   "outputs": []
  },
  {
   "metadata": {
    "ExecuteTime": {
     "end_time": "2024-06-17T10:01:45.949745Z",
     "start_time": "2024-06-17T10:01:45.936508Z"
    }
   },
   "cell_type": "code",
   "source": [
    "print(re.findall('[a-z]','AaBb'))\n",
    "print(re.findall('[a-z]','AaBb', flags=re.I))"
   ],
   "id": "a94c0c3a32d9a67d",
   "execution_count": 20,
   "outputs": []
  },
  {
   "metadata": {
    "ExecuteTime": {
     "end_time": "2024-06-17T10:02:38.003882Z",
     "start_time": "2024-06-17T10:02:37.996080Z"
    }
   },
   "cell_type": "code",
   "source": [
    "print(re.findall('<b>.*?</b>','<b>b标签</b>'))\n",
    "print(re.findall('<b>.*?</b>','<b>b标\\n签</b>', flags=re.S))"
   ],
   "id": "370c866ac91aea3f",
   "execution_count": 23,
   "outputs": []
  },
  {
   "metadata": {
    "ExecuteTime": {
     "end_time": "2024-06-17T09:52:13.845700Z",
     "start_time": "2024-06-17T09:52:13.833123Z"
    }
   },
   "cell_type": "code",
   "source": [
    "myStr = \"asdas\\rd&a\\ts12d\\n*a3sd@a_1sd\"\n",
    "#通过特殊字符 对其进行拆分 成列表\n",
    "res = re.split(\"[^a-z]\",myStr)\n",
    "res"
   ],
   "id": "e9f22462b62d0c62",
   "execution_count": 16,
   "outputs": []
  },
  {
   "metadata": {
    "ExecuteTime": {
     "end_time": "2024-06-17T10:00:25.216384Z",
     "start_time": "2024-06-17T10:00:25.195342Z"
    }
   },
   "cell_type": "code",
   "source": [
    "res = re.split(\"\\W\",myStr)\n",
    "res"
   ],
   "id": "fd4cf715d84a1a42",
   "execution_count": 17,
   "outputs": []
  },
  {
   "metadata": {
    "ExecuteTime": {
     "end_time": "2024-06-17T09:43:30.470028Z",
     "start_time": "2024-06-17T09:43:30.453754Z"
    }
   },
   "cell_type": "code",
   "source": [
    "res = re.finditer('\\w', '12hsakda1')\n",
    "print(res)\n",
    "print(next(res))\n",
    "\n",
    "for i in res:\n",
    "    print(i)"
   ],
   "id": "4ac8b2553f1e2243",
   "execution_count": 15,
   "outputs": []
  },
  {
   "metadata": {},
   "cell_type": "code",
   "source": [
    "import re\n",
    "\n",
    "res = re.match('\\d{2}','123')\n",
    "print(res.group())\n",
    "\n",
    "#给当前匹配到的结果起别名\n",
    "s = '3G4HFD567'\n",
    "x = re.match(\"(?P<value>\\d+)\",s)\n",
    "print(x.group(0))\n",
    "print(x.group('value'))"
   ],
   "id": "2ad8dd9c826a62ee",
   "execution_count": null,
   "outputs": []
  },
  {
   "metadata": {},
   "cell_type": "code",
   "source": [
    "myStr = \"\"\"\n",
    "<a href=\"http://www.baidu.com\">百度</a>\n",
    "<A href=\"http://www.taobao.com\">淘宝</A>\n",
    "<a href=\"http://www.id97.com\">电\n",
    "影网站</a>\n",
    "<i>我是倾斜1</i>\n",
    "<i>我是倾斜2</i>\n",
    "<em>我是倾斜2</em>\n",
    "\"\"\""
   ],
   "id": "1161e98e8aea3fa5",
   "execution_count": null,
   "outputs": []
  },
  {
   "metadata": {
    "ExecuteTime": {
     "end_time": "2024-06-17T09:37:15.957066Z",
     "start_time": "2024-06-17T09:37:15.940010Z"
    }
   },
   "cell_type": "code",
   "source": [
    "# html里是不区分大小写\n",
    "# （1）给正则里面匹配的 加上圆括号 会将括号里面的内容进行 单独的返回\n",
    "res = re.findall(\"(<a href=\\\"http://www\\.(.*?)\\.com\\\">(.*?)</a>)\",myStr) #[('<a href=\"http://www.baidu.com\">百度</a>', 'baidu', '百度')]\n",
    "print(res)"
   ],
   "id": "3b5d58b730e12f01",
   "execution_count": 5,
   "outputs": []
  },
  {
   "metadata": {
    "ExecuteTime": {
     "end_time": "2024-06-17T09:37:16.905754Z",
     "start_time": "2024-06-17T09:37:16.897057Z"
    }
   },
   "cell_type": "code",
   "source": [
    "# 括号的区别\n",
    "res = re.findall(\"<a href=\\\"http://www\\..*?\\.com\\\">.*?</a>\",myStr) #['<a href=\"http://www.baidu.com\">百度</a>']\n",
    "print(res)"
   ],
   "id": "b5da3bb09f260cef",
   "execution_count": 6,
   "outputs": []
  },
  {
   "metadata": {
    "ExecuteTime": {
     "end_time": "2024-06-17T09:42:08.485933Z",
     "start_time": "2024-06-17T09:42:08.470314Z"
    }
   },
   "cell_type": "code",
   "source": [
    "#(2) 不区分大小写的匹配\n",
    "res = re.findall(\"<a href=\\\"http://www\\..*?\\.com\\\">.*?</a>\",myStr,re.I) #['<a href=\"http://www.baidu.com\">百度</a>', '<A href=\"http://www.taobao.com\">淘宝</A>']\n",
    "print(res)"
   ],
   "id": "e0c47b5a896b45e2",
   "execution_count": 12,
   "outputs": []
  },
  {
   "metadata": {
    "ExecuteTime": {
     "end_time": "2024-06-17T09:41:51.205750Z",
     "start_time": "2024-06-17T09:41:51.191833Z"
    }
   },
   "cell_type": "code",
   "source": [
    "res = re.findall(\"<[aA] href=\\\"http://www\\..*?\\.com\\\">.*?</[aA]>\",myStr) #['<a href=\"http://www.baidu.com\">百度</a>']\n",
    "print(res)"
   ],
   "id": "57e823cbb5f9f491",
   "execution_count": 11,
   "outputs": []
  },
  {
   "metadata": {
    "ExecuteTime": {
     "end_time": "2024-06-17T09:42:17.225976Z",
     "start_time": "2024-06-17T09:42:17.211514Z"
    }
   },
   "cell_type": "code",
   "source": [
    "# (3) 使.支持换行匹配\n",
    "res = re.findall(\"<a href=\\\"http://www..?.com\\\">.?</a>\",myStr,re.S) #\n",
    "print(res)"
   ],
   "id": "9fe6935c9a6a9779",
   "execution_count": 13,
   "outputs": []
  },
  {
   "metadata": {
    "ExecuteTime": {
     "end_time": "2024-06-17T09:42:19.463723Z",
     "start_time": "2024-06-17T09:42:19.458224Z"
    }
   },
   "cell_type": "code",
   "source": [
    "# (4) 支持换行 支持不区分大小写匹配\n",
    "res = re.findall(\"<a href=\\\"http://www..?.com\\\">.?</a>\",myStr,re.S|re.I) #\n",
    "print(res)"
   ],
   "id": "2916fef7590476a9",
   "execution_count": 14,
   "outputs": []
  },
  {
   "metadata": {},
   "cell_type": "code",
   "source": "",
   "id": "af12a701e378e55d",
   "execution_count": null,
   "outputs": []
  }
 ],
 "metadata": {
  "kernelspec": {
   "display_name": "Python 3",
   "language": "python",
   "name": "python3"
  },
  "language_info": {
   "codemirror_mode": {
    "name": "ipython",
    "version": 2
   },
   "file_extension": ".py",
   "mimetype": "text/x-python",
   "name": "python",
   "nbconvert_exporter": "python",
   "pygments_lexer": "ipython2",
   "version": "2.7.6"
  }
 },
 "nbformat": 4,
 "nbformat_minor": 5
}
