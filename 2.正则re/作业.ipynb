{
 "cells": [
  {
   "cell_type": "code",
   "id": "initial_id",
   "metadata": {
    "collapsed": true,
    "ExecuteTime": {
     "end_time": "2024-06-17T10:13:28.900059Z",
     "start_time": "2024-06-17T10:13:28.881561Z"
    }
   },
   "source": "import re",
   "outputs": [],
   "execution_count": 1
  },
  {
   "metadata": {
    "ExecuteTime": {
     "end_time": "2024-06-17T10:35:58.594105Z",
     "start_time": "2024-06-17T10:35:58.589118Z"
    }
   },
   "cell_type": "code",
   "source": "# 中信证券",
   "id": "259b534ce8d7c7be",
   "outputs": [],
   "execution_count": null
  },
  {
   "metadata": {},
   "cell_type": "code",
   "outputs": [],
   "execution_count": 2,
   "source": "pattern = re.compile('<span class=\"th1\" value=\".*?\">(.*?)</span>.*?<span class=\"th2\" value=\".*?\">(.*?)</span>.*?<span class=\"th3\" value=\".*?\">(.*?)</span>.*?<span class=\"th4\" value=\".*?\">(.*?)</span>.*?<span class=\"th5\" value=\"(.*?)\" value6=\"(.*?)\">.*?</span>', re.S)",
   "id": "7f6adce9b31157c2"
  },
  {
   "metadata": {},
   "cell_type": "code",
   "outputs": [],
   "execution_count": null,
   "source": "with open",
   "id": "56276725d1b35950"
  }
 ],
 "metadata": {
  "kernelspec": {
   "display_name": "Python 3",
   "language": "python",
   "name": "python3"
  },
  "language_info": {
   "codemirror_mode": {
    "name": "ipython",
    "version": 2
   },
   "file_extension": ".py",
   "mimetype": "text/x-python",
   "name": "python",
   "nbconvert_exporter": "python",
   "pygments_lexer": "ipython2",
   "version": "2.7.6"
  }
 },
 "nbformat": 4,
 "nbformat_minor": 5
}
