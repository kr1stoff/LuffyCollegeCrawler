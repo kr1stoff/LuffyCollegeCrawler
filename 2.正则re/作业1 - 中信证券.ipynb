{
 "cells": [
  {
   "cell_type": "code",
   "id": "initial_id",
   "metadata": {
    "collapsed": true,
    "ExecuteTime": {
     "end_time": "2024-06-17T13:37:29.836325Z",
     "start_time": "2024-06-17T13:37:29.824318Z"
    }
   },
   "source": "import re",
   "execution_count": 3,
   "outputs": []
  },
  {
   "metadata": {
    "ExecuteTime": {
     "end_time": "2024-06-17T13:37:30.153806Z",
     "start_time": "2024-06-17T13:37:30.133449Z"
    }
   },
   "cell_type": "code",
   "source": [
    "# 中信证券\n",
    "with open('中信证券资管产品_中信证券 CITIC Securities.html', encoding='utf-8') as f:\n",
    "    content = f.read()"
   ],
   "id": "56276725d1b35950",
   "execution_count": 4,
   "outputs": []
  },
  {
   "metadata": {
    "ExecuteTime": {
     "end_time": "2024-06-17T13:37:30.494665Z",
     "start_time": "2024-06-17T13:37:30.474664Z"
    }
   },
   "cell_type": "code",
   "source": "pattern = re.compile('<span class=\"th1\" value=\".*?\">(.*?)</span>.*?<span class=\"th2\" value=\".*?\">(.*?)</span>.*?<span class=\"th3\" value=\".*?\">(.*?)</span>.*?<span class=\"th4\" value=\".*?\">(.*?)</span>.*?<span class=\"th5\" value=\"(.*?)\" value6=\"(.*?)\">.*?</span>', re.S)",
   "id": "ed05fca730fdc351",
   "execution_count": 5,
   "outputs": []
  },
  {
   "metadata": {
    "ExecuteTime": {
     "end_time": "2024-06-17T13:41:11.641393Z",
     "start_time": "2024-06-17T13:41:11.625401Z"
    }
   },
   "cell_type": "code",
   "source": [
    "with open('作业 - 中信证券.csv', 'w', encoding='utf-8') as g:\n",
    "    g.write('产品名称,管理人,风险评级,认购金额,起点公示,信息\\n')\n",
    "    for pat in pattern.findall(content):\n",
    "        g.write(','.join(pat) + '\\n')"
   ],
   "id": "7f7e596f2cb87005",
   "execution_count": 9,
   "outputs": []
  },
  {
   "metadata": {},
   "cell_type": "code",
   "execution_count": null,
   "source": "",
   "id": "a1dd837926c7c760",
   "outputs": []
  }
 ],
 "metadata": {
  "kernelspec": {
   "display_name": "Python 3",
   "language": "python",
   "name": "python3"
  },
  "language_info": {
   "codemirror_mode": {
    "name": "ipython",
    "version": 2
   },
   "file_extension": ".py",
   "mimetype": "text/x-python",
   "name": "python",
   "nbconvert_exporter": "python",
   "pygments_lexer": "ipython2",
   "version": "2.7.6"
  }
 },
 "nbformat": 4,
 "nbformat_minor": 5
}
