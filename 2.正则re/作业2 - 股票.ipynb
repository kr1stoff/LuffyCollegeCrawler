{
 "cells": [
  {
   "cell_type": "code",
   "id": "initial_id",
   "metadata": {
    "ExecuteTime": {
     "end_time": "2024-06-19T17:42:07.399282Z",
     "start_time": "2024-06-19T17:42:07.395441Z"
    }
   },
   "source": [
    "import re\n",
    "import pandas as pd\n",
    "import matplotlib.pyplot as plt\n",
    "plt.rcParams['font.sans-serif']=['SimHei']  #设置字体以便支持中文 (简黑字体)\n",
    "plt.rcParams['axes.unicode_minus']=False # 正常显示负号"
   ],
   "outputs": [],
   "execution_count": 66
  },
  {
   "cell_type": "code",
   "id": "775199d8-d7c7-4cf2-9f23-38e384cb8af6",
   "metadata": {
    "ExecuteTime": {
     "end_time": "2024-06-19T17:42:07.853099Z",
     "start_time": "2024-06-19T17:42:07.847481Z"
    }
   },
   "source": [
    "with open('股票.html', encoding='utf-8') as f:\n",
    "    contents = f.read()\n",
    "\n",
    "pattern = re.compile('<tr><td.*?><a.*?>(\\d+)</a></td><td.*?><a.*?>(.*?)</a></td><td.*?>(.*?)</td><td.*?>(.*?)</td><td.*?>(.*?)</td><td.*?>(.*?)</td></tr>')\n",
    "\n",
    "with open('作业2 - 股票.csv', 'w', encoding='utf-8') as g:\n",
    "    g.write('代码,简称,流通市值(万元),总市值(万元),流通股本(万元),总股本(万元)\\n')\n",
    "    for res in pattern.findall(contents):\n",
    "        g.write(','.join(res) + '\\n')"
   ],
   "outputs": [],
   "execution_count": 67
  },
  {
   "cell_type": "code",
   "id": "3860a769-5572-4459-8c92-4d5c64312ec1",
   "metadata": {
    "ExecuteTime": {
     "end_time": "2024-06-19T17:42:55.393288Z",
     "start_time": "2024-06-19T17:42:55.195572Z"
    }
   },
   "source": [
    "df = pd.DataFrame()\n",
    "\n",
    "for res in pattern.findall(contents):\n",
    "    name, total_value = res[1], res[3]\n",
    "    new_row = pd.DataFrame([[name, total_value]])\n",
    "    df = pd.concat([df, new_row], ignore_index=True)\n",
    "    \n",
    "df.columns = ['name', 'total_value']\n",
    "\n",
    "df['total_value'] = df['total_value'].astype(float)\n",
    "\n",
    "plt.bar(df['name'], df['total_value'])\n",
    "plt.xticks(fontsize=5, rotation=90)\n",
    "plt.savefig('作业2 - 股票.png', dpi=300)"
   ],
   "outputs": [],
   "execution_count": 70
  },
  {
   "cell_type": "code",
   "execution_count": null,
   "id": "a5a9530d0ea9d900",
   "metadata": {},
   "outputs": [],
   "source": []
  }
 ],
 "metadata": {
  "kernelspec": {
   "display_name": "Python 3 (ipykernel)",
   "language": "python",
   "name": "python3"
  },
  "language_info": {
   "codemirror_mode": {
    "name": "ipython",
    "version": 3
   },
   "file_extension": ".py",
   "mimetype": "text/x-python",
   "name": "python",
   "nbconvert_exporter": "python",
   "pygments_lexer": "ipython3",
   "version": "3.11.9"
  }
 },
 "nbformat": 4,
 "nbformat_minor": 5
}
