{
 "cells": [
  {
   "cell_type": "code",
   "id": "initial_id",
   "metadata": {
    "collapsed": true,
    "ExecuteTime": {
     "end_time": "2024-06-17T13:32:09.722439Z",
     "start_time": "2024-06-17T13:32:09.702263Z"
    }
   },
   "source": "import re",
   "outputs": [],
   "execution_count": 4
  },
  {
   "metadata": {
    "ExecuteTime": {
     "end_time": "2024-06-17T13:32:03.803170Z",
     "start_time": "2024-06-17T13:32:03.795164Z"
    }
   },
   "cell_type": "code",
   "source": [
    "# 中信证券\n",
    "with open('中信证券资管产品_中信证券 CITIC Securities.html', encoding='utf-8') as f:\n",
    "    content = f.read()"
   ],
   "id": "56276725d1b35950",
   "outputs": [],
   "execution_count": 2
  },
  {
   "metadata": {
    "ExecuteTime": {
     "end_time": "2024-06-17T13:32:13.857503Z",
     "start_time": "2024-06-17T13:32:13.844167Z"
    }
   },
   "cell_type": "code",
   "source": "pattern = re.compile('<span class=\"th1\" value=\".*?\">(.*?)</span>.*?<span class=\"th2\" value=\".*?\">(.*?)</span>.*?<span class=\"th3\" value=\".*?\">(.*?)</span>.*?<span class=\"th4\" value=\".*?\">(.*?)</span>.*?<span class=\"th5\" value=\"(.*?)\" value6=\"(.*?)\">.*?</span>', re.S)",
   "id": "ed05fca730fdc351",
   "outputs": [],
   "execution_count": 5
  },
  {
   "metadata": {
    "ExecuteTime": {
     "end_time": "2024-06-17T13:32:20.742935Z",
     "start_time": "2024-06-17T13:32:20.718669Z"
    }
   },
   "cell_type": "code",
   "source": [
    "with open('', 'w') as g:\n",
    "    for pat in pattern.finditer(content):"
   ],
   "id": "7f7e596f2cb87005",
   "outputs": [
    {
     "data": {
      "text/plain": [
       "[('中信证券美信2号集合资产管理计划',\n",
       "  '中信证券股份有限公司',\n",
       "  'R2-中低风险',\n",
       "  '30万',\n",
       "  '中国证券投资基金业协会',\n",
       "  '中信证券直销柜台+代销(中信银行)'),\n",
       " ('中信证券稳盈多策略MOM1号集合资产管理计划',\n",
       "  '中信证券股份有限公司',\n",
       "  'R4-中高风险',\n",
       "  '100万',\n",
       "  '中国证券投资基金业协会',\n",
       "  '中信证券直销柜台'),\n",
       " ('中信证券灿瑞科技员工参与科创板战略配售2号集合资产管理计划',\n",
       "  '中信证券股份有限公司',\n",
       "  'R4-中高风险',\n",
       "  '40万',\n",
       "  '中国证券投资基金业协会',\n",
       "  '中信证券所有营业网点'),\n",
       " ('中信证券灿瑞科技员工参与科创板战略配售1号集合资产管理计划',\n",
       "  '中信证券股份有限公司',\n",
       "  'R4-中高风险',\n",
       "  '100万',\n",
       "  '中国证券投资基金业协会',\n",
       "  '中信证券所有营业网点'),\n",
       " ('中信证券振华风光员工参与科创板战略配售集合资产管理计划',\n",
       "  '中信证券股份有限公司',\n",
       "  'R4-中高风险',\n",
       "  '100万',\n",
       "  '中国证券投资基金业协会',\n",
       "  '中信证券所有营业网点'),\n",
       " ('中信证券美信1号集合资产管理计划',\n",
       "  '中信证券股份有限公司',\n",
       "  'R3-中等风险',\n",
       "  '30万',\n",
       "  '中国证券投资基金业协会',\n",
       "  '中信证券直销柜台+代销(中信银行)'),\n",
       " ('中信证券中证1000指数增强1号集合资产管理计划',\n",
       "  '中信证券股份有限公司',\n",
       "  'R5-高风险',\n",
       "  '100万',\n",
       "  '中国证券投资基金业协会',\n",
       "  '中信证券直销柜台'),\n",
       " ('中信证券信致2号集合资产管理计划',\n",
       "  '中信证券股份有限公司',\n",
       "  'R4-中高风险',\n",
       "  '100万',\n",
       "  '中国证券投资基金业协会',\n",
       "  '中信证券直销柜台'),\n",
       " ('中信证券丛麟环保员工参与科创板战略配售集合资产管理计划',\n",
       "  '中信证券股份有限公司',\n",
       "  'R4-中高风险',\n",
       "  '100万',\n",
       "  '中国证券投资基金业协会',\n",
       "  '中信证券所有营业网点'),\n",
       " ('中信证券联影医疗员工参与科创板战略配售3号集合资产管理计划',\n",
       "  '中信证券股份有限公司',\n",
       "  'R4-中高风险',\n",
       "  '40万',\n",
       "  '中国证券投资基金业协会',\n",
       "  '中信证券所有营业网点')]"
      ]
     },
     "execution_count": 6,
     "metadata": {},
     "output_type": "execute_result"
    }
   ],
   "execution_count": 6
  },
  {
   "metadata": {},
   "cell_type": "code",
   "outputs": [],
   "execution_count": null,
   "source": "",
   "id": "a1dd837926c7c760"
  }
 ],
 "metadata": {
  "kernelspec": {
   "display_name": "Python 3",
   "language": "python",
   "name": "python3"
  },
  "language_info": {
   "codemirror_mode": {
    "name": "ipython",
    "version": 2
   },
   "file_extension": ".py",
   "mimetype": "text/x-python",
   "name": "python",
   "nbconvert_exporter": "python",
   "pygments_lexer": "ipython2",
   "version": "2.7.6"
  }
 },
 "nbformat": 4,
 "nbformat_minor": 5
}
