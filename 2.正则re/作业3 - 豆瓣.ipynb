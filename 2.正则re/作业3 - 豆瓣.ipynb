{
 "cells": [
  {
   "cell_type": "code",
   "id": "initial_id",
   "metadata": {
    "collapsed": true,
    "ExecuteTime": {
     "end_time": "2024-06-21T01:21:25.697696Z",
     "start_time": "2024-06-21T01:21:25.666648Z"
    }
   },
   "source": [
    "with open('豆瓣.html', encoding='utf8') as f:\n",
    "    contents = f.read()"
   ],
   "outputs": [],
   "execution_count": 1
  },
  {
   "metadata": {
    "ExecuteTime": {
     "end_time": "2024-06-21T01:21:25.707738Z",
     "start_time": "2024-06-21T01:21:25.697696Z"
    }
   },
   "cell_type": "code",
   "source": "import re",
   "id": "e285877bba72fa6d",
   "outputs": [],
   "execution_count": 2
  },
  {
   "metadata": {
    "ExecuteTime": {
     "end_time": "2024-06-21T01:23:42.320703Z",
     "start_time": "2024-06-21T01:23:42.289291Z"
    }
   },
   "cell_type": "code",
   "source": "pattern = re.compile('<a class=\"cover\" href=\".*?\"><img src=\"(.*?)\"/></a>.*?<div class=\"detail-frame\">.*?<h2>.*?<a href=\".*?\">(.*?)</a>.*?</h2>', re.S)",
   "id": "2d890b29f3dcffd5",
   "outputs": [],
   "execution_count": 4
  },
  {
   "metadata": {
    "ExecuteTime": {
     "end_time": "2024-06-21T01:25:38.974103Z",
     "start_time": "2024-06-21T01:25:38.958267Z"
    }
   },
   "cell_type": "code",
   "source": [
    "with open('豆瓣.csv', 'w', encoding='utf8') as f:\n",
    "    f.write('名称,图片链接\\n')\n",
    "    for res in pattern.findall(contents):\n",
    "        f.write(f'{res[1]},{res[0]}\\n')"
   ],
   "id": "d2be4a50b8593f43",
   "outputs": [],
   "execution_count": 8
  },
  {
   "metadata": {},
   "cell_type": "code",
   "outputs": [],
   "execution_count": null,
   "source": "",
   "id": "e34aec352762be8f"
  }
 ],
 "metadata": {
  "kernelspec": {
   "display_name": "Python 3",
   "language": "python",
   "name": "python3"
  },
  "language_info": {
   "codemirror_mode": {
    "name": "ipython",
    "version": 2
   },
   "file_extension": ".py",
   "mimetype": "text/x-python",
   "name": "python",
   "nbconvert_exporter": "python",
   "pygments_lexer": "ipython2",
   "version": "2.7.6"
  }
 },
 "nbformat": 4,
 "nbformat_minor": 5
}
