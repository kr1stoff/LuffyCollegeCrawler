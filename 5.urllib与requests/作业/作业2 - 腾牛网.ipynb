{
 "cells": [
  {
   "cell_type": "code",
   "id": "initial_id",
   "metadata": {
    "collapsed": true,
    "ExecuteTime": {
     "end_time": "2024-06-26T15:52:50.884346Z",
     "start_time": "2024-06-26T15:52:50.881445Z"
    }
   },
   "source": [
    "import requests\n",
    "from lxml import etree\n",
    "import os"
   ],
   "outputs": [],
   "execution_count": 38
  },
  {
   "metadata": {},
   "cell_type": "code",
   "outputs": [],
   "execution_count": 17,
   "source": [
    "headers = {\"User-Agent\" : \"Mozilla/5.0 (Windows NT 10.0; Win64; x64) AppleWebKit/537.36 (KHTML, like Gecko) Chrome/126.0.0.0 Safari/537.36\"}\n",
    "url = 'https://www.qqtn.com/wm/meinvtp_1.html'\n",
    "response = requests.get(url, headers=headers)\n",
    "content = response.content.decode('GB18030')\n",
    "tree = etree.HTML(content)"
   ],
   "id": "5ceff11c9a986c6f"
  },
  {
   "metadata": {
    "ExecuteTime": {
     "end_time": "2024-06-26T16:13:26.668495Z",
     "start_time": "2024-06-26T16:13:24.198061Z"
    }
   },
   "cell_type": "code",
   "source": [
    "os.makedirs('腾牛网', exist_ok=True)\n",
    "\n",
    "for img in tree.xpath('//img/@src'):\n",
    "    img_basename = img.split('/')[-1]\n",
    "    with open(f'腾牛网/{img_basename}', 'wb') as f:\n",
    "        image_byte = requests.get(img).content\n",
    "        f.write(image_byte)"
   ],
   "id": "da7adb6ff1e2f3f3",
   "outputs": [],
   "execution_count": 45
  },
  {
   "metadata": {},
   "cell_type": "code",
   "outputs": [],
   "execution_count": null,
   "source": "",
   "id": "228ceb8cd1766286"
  }
 ],
 "metadata": {
  "kernelspec": {
   "display_name": "Python 3",
   "language": "python",
   "name": "python3"
  },
  "language_info": {
   "codemirror_mode": {
    "name": "ipython",
    "version": 2
   },
   "file_extension": ".py",
   "mimetype": "text/x-python",
   "name": "python",
   "nbconvert_exporter": "python",
   "pygments_lexer": "ipython2",
   "version": "2.7.6"
  }
 },
 "nbformat": 4,
 "nbformat_minor": 5
}
