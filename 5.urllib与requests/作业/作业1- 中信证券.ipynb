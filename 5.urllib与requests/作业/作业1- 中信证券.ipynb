{
 "cells": [
  {
   "metadata": {},
   "cell_type": "markdown",
   "source": "# 中信证券",
   "id": "bb9fd85792b62c64"
  },
  {
   "metadata": {},
   "cell_type": "markdown",
   "source": "抓取每一行",
   "id": "bb411a7e515afa34"
  },
  {
   "metadata": {
    "ExecuteTime": {
     "end_time": "2024-06-26T10:47:02.816336Z",
     "start_time": "2024-06-26T10:47:02.723266Z"
    }
   },
   "cell_type": "code",
   "source": [
    "import requests\n",
    "from lxml import etree\n",
    "\n",
    "url = 'http://www.cs.ecitic.com/newsite/cpzx/jrcpxxgs/zgcp/index.html'\n",
    "headers = {\"User-Agent\" : \"Mozilla/5.0 (Windows NT 10.0; Win64; x64) AppleWebKit/537.36 (KHTML, like Gecko) Chrome/126.0.0.0 Safari/537.36\"}\n",
    "response = requests.get(url, headers=headers)\n",
    "content = response.content.decode()\n",
    "tree = etree.HTML(content)\n",
    "\n",
    "f = open('中信1.csv', 'wt', encoding='utf-8', newline='')\n",
    "\n",
    "for tag_li in tree.xpath('//ul[@class=\"list-con\"]/li'):\n",
    "    product_name = tag_li.xpath('./span[@class=\"th1\"]/text()')[0]\n",
    "    manager = tag_li.xpath('./span[@class=\"th2\"]/text()')[0]\n",
    "    rask_level = tag_li.xpath('./span[@class=\"th3\"]/text()')[0]\n",
    "    start_point = tag_li.xpath('./span[@class=\"th4\"]/text()')[0]\n",
    "    filing_apartment = tag_li.xpath('./span[@class=\"th5\"]/@value')[0]\n",
    "    sales_outlets = tag_li.xpath('./span[@class=\"th5\"]/@value6')[0]\n",
    "    f.write(','.join([product_name, manager, rask_level, start_point, filing_apartment, sales_outlets]) + '\\n')\n",
    "    \n",
    "f.close()"
   ],
   "id": "58f6bf47ca4629ca",
   "outputs": [],
   "execution_count": 7
  },
  {
   "metadata": {},
   "cell_type": "markdown",
   "source": "抓取多页",
   "id": "14368bff9c8ac15e"
  },
  {
   "metadata": {
    "ExecuteTime": {
     "end_time": "2024-06-26T10:47:07.980051Z",
     "start_time": "2024-06-26T10:47:07.975262Z"
    }
   },
   "cell_type": "code",
   "source": [
    "def crawl_single_page(page_number:int=0):\n",
    "    assert page_number <= 102, \"超过最大页数: 102\"\n",
    "    products_infos = []\n",
    "    \n",
    "    url = 'http://www.cs.ecitic.com/newsite/cpzx/jrcpxxgs/zgcp/index.html'\n",
    "    \n",
    "    if page_number != 0:\n",
    "        url = url.replace('index', f'index_{page_number}')\n",
    "        \n",
    "    headers = {\"User-Agent\" : \"Mozilla/5.0 (Windows NT 10.0; Win64; x64) AppleWebKit/537.36 (KHTML, like Gecko) Chrome/126.0.0.0 Safari/537.36\"}\n",
    "    response = requests.get(url, headers=headers)\n",
    "    content = response.content.decode()\n",
    "    tree = etree.HTML(content)\n",
    "    \n",
    "    for tag_li in tree.xpath('//ul[@class=\"list-con\"]/li'):\n",
    "        product_name = tag_li.xpath('./span[@class=\"th1\"]/text()')[0]\n",
    "        manager = tag_li.xpath('./span[@class=\"th2\"]/text()')[0]\n",
    "        rask_level = tag_li.xpath('./span[@class=\"th3\"]/text()')[0]\n",
    "        start_point = tag_li.xpath('./span[@class=\"th4\"]/text()')[0]\n",
    "        filing_apartment = tag_li.xpath('./span[@class=\"th5\"]/@value')[0]\n",
    "        sales_outlets = tag_li.xpath('./span[@class=\"th5\"]/@value6')[0]\n",
    "        product_info = [product_name, manager, rask_level, start_point, filing_apartment, sales_outlets]\n",
    "        products_infos.append(product_info)\n",
    "        \n",
    "    return products_infos"
   ],
   "id": "f705bff6adf1970e",
   "outputs": [],
   "execution_count": 8
  },
  {
   "metadata": {
    "ExecuteTime": {
     "end_time": "2024-06-26T10:47:26.810028Z",
     "start_time": "2024-06-26T10:47:08.412103Z"
    }
   },
   "cell_type": "code",
   "source": [
    "f = open('中信2.csv', 'w', encoding='utf-8', newline='')\n",
    "\n",
    "for i in range(103):\n",
    "    for product_info in crawl_single_page(i):\n",
    "        f.write(','.join(product_info) + '\\n')\n",
    "\n",
    "f.close()"
   ],
   "id": "dcc3eb71a953a2e9",
   "outputs": [],
   "execution_count": 9
  },
  {
   "metadata": {},
   "cell_type": "code",
   "outputs": [],
   "execution_count": null,
   "source": "",
   "id": "871ee9f9444ee385"
  }
 ],
 "metadata": {
  "kernelspec": {
   "display_name": "Python 3",
   "language": "python",
   "name": "python3"
  },
  "language_info": {
   "codemirror_mode": {
    "name": "ipython",
    "version": 2
   },
   "file_extension": ".py",
   "mimetype": "text/x-python",
   "name": "python",
   "nbconvert_exporter": "python",
   "pygments_lexer": "ipython2",
   "version": "2.7.6"
  }
 },
 "nbformat": 4,
 "nbformat_minor": 5
}
