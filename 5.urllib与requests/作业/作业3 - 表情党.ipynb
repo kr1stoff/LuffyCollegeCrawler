{
 "cells": [
  {
   "cell_type": "code",
   "id": "initial_id",
   "metadata": {
    "collapsed": true,
    "ExecuteTime": {
     "end_time": "2024-06-26T16:24:55.027380Z",
     "start_time": "2024-06-26T16:24:54.645187Z"
    }
   },
   "source": [
    "import requests\n",
    "from lxml import etree\n",
    "import os"
   ],
   "outputs": [],
   "execution_count": 1
  },
  {
   "metadata": {
    "ExecuteTime": {
     "end_time": "2024-06-26T16:25:50.456927Z",
     "start_time": "2024-06-26T16:25:49.717050Z"
    }
   },
   "cell_type": "code",
   "source": [
    "headers = {\"User-Agent\" : \"Mozilla/5.0 (Windows NT 10.0; Win64; x64) AppleWebKit/537.36 (KHTML, like Gecko) Chrome/126.0.0.0 Safari/537.36\"}\n",
    "url = 'https://qq.yh31.com/xq/wq/'\n",
    "response = requests.get(url, headers=headers)\n",
    "content = response.content.decode()\n",
    "tree = etree.HTML(content)"
   ],
   "id": "9bfbd9e5e617afa4",
   "outputs": [],
   "execution_count": 2
  },
  {
   "metadata": {
    "ExecuteTime": {
     "end_time": "2024-06-26T16:33:45.631042Z",
     "start_time": "2024-06-26T16:32:58.098978Z"
    }
   },
   "cell_type": "code",
   "source": [
    "os.makedirs('表情党', exist_ok=True)\n",
    "\n",
    "for img in tree.xpath('//img/@data-src'):\n",
    "    img_basename = img.split('/')[-1]\n",
    "    with open(f'表情党/{img_basename}', 'wb') as f:\n",
    "        try:\n",
    "            image_byte = requests.get(img).content\n",
    "            f.write(image_byte)\n",
    "        except requests.exceptions.MissingSchema as e:\n",
    "            print(img, e)"
   ],
   "id": "c1477c856a1498a9",
   "outputs": [],
   "execution_count": 7
  },
  {
   "metadata": {},
   "cell_type": "code",
   "outputs": [],
   "execution_count": null,
   "source": "",
   "id": "696c48db235d3f5f"
  }
 ],
 "metadata": {
  "kernelspec": {
   "display_name": "Python 3",
   "language": "python",
   "name": "python3"
  },
  "language_info": {
   "codemirror_mode": {
    "name": "ipython",
    "version": 2
   },
   "file_extension": ".py",
   "mimetype": "text/x-python",
   "name": "python",
   "nbconvert_exporter": "python",
   "pygments_lexer": "ipython2",
   "version": "2.7.6"
  }
 },
 "nbformat": 4,
 "nbformat_minor": 5
}
