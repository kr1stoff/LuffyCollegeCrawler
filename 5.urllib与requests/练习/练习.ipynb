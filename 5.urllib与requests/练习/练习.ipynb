{
 "cells": [
  {
   "metadata": {},
   "cell_type": "markdown",
   "source": "# urllib",
   "id": "3ea1a7581f0efdde"
  },
  {
   "metadata": {},
   "cell_type": "code",
   "source": [
    "import urllib\n",
    "# 构造请求\n",
    "request = urllib.request.Request('http://www.baidu.com')\n",
    "# 发送请求获取响应\n",
    "response = urllib.request.urlopen(request)\n",
    "# 构造 headers\n",
    "headers = {\"User-Agent\" : \"Mozilla/5.0 (compatible; MSIE 9.0; Windows NT 6.1; Trident/5.0)\"} \n",
    "# 构造请求\n",
    "request = urllib.request.Request('http://www.baidu.com', headers=headers)\n",
    "# 发送请求\n",
    "response = urllib.request.urlopen(request)"
   ],
   "id": "2732b9c5d8b108b9",
   "outputs": [],
   "execution_count": null
  },
  {
   "metadata": {},
   "cell_type": "code",
   "source": [
    "import urllib.request\n",
    "import urllib.parse\n",
    "import json\n",
    "\n",
    "url = 'https://ifanyi.iciba.com/index.php?c=trans&m=fy&client=6&auth_user=key_ciba&sign=99730f3bf66b2582'\n",
    "headers = {\n",
    "    'User-Agent': 'Mozilla/5.0 (Windows NT 10.0; Win64; x64) AppleWebKit/537.36 (KHTML, like Gecko) Chrome/124.0.0.0 Safari/537.36',\n",
    "}\n",
    "data = {\n",
    "    'from': 'zh',\n",
    "    'to': 'en',\n",
    "    'q': '好啵，lucky 是一个帅气的佬'\n",
    "}\n",
    "\n",
    "# 使用post方式\n",
    "data = urllib.parse.urlencode(data).encode('utf-8')\n",
    "req = urllib.request.Request(url, data=data, headers=headers)\n",
    "res = urllib.request.urlopen(req)\n",
    "print(res.getcode())\n",
    "print(res.geturl())\n",
    "data = json.loads(res.read().decode('utf-8'))\n",
    "print(data)\n",
    "# 发送请求\n",
    "response = urllib.request.urlopen('http://www.baidu.com')\n",
    "# 获取响应\n",
    "response.read()"
   ],
   "id": "c2700e70be69350f",
   "outputs": [],
   "execution_count": null
  },
  {
   "metadata": {},
   "cell_type": "code",
   "source": [
    "import urllib\n",
    "import json\n",
    "\n",
    "url = 'http://www.baidu.com'\n",
    "headers = {\n",
    "    'User-Agent': 'Mozilla/5.0 (Windows NT 10.0; Win64; x64) AppleWebKit/537.36 (KHTML, like Gecko) Chrome/124.0.0.0 Safari/537.36',\n",
    "}\n",
    "request = urllib.request.Request(url, headers=headers)\n",
    "response = urllib.request.urlopen(request)\n",
    "html_str = response.read().decode('utf-8')\n",
    "print(html_str)"
   ],
   "id": "683e2bacc92a81ba",
   "outputs": [],
   "execution_count": null
  },
  {
   "metadata": {},
   "cell_type": "markdown",
   "source": "# requests",
   "id": "ba3e6ccac7dc81ca"
  },
  {
   "metadata": {},
   "cell_type": "code",
   "source": [
    "import requests\n",
    "\n",
    "url = 'http://www.baidu.com'\n",
    "# 向目标url发送get请求\n",
    "response = requests.get(url)\n",
    "# 打印响应内容\n",
    "print(response.text)"
   ],
   "id": "5267ee6d599a47a5",
   "outputs": [],
   "execution_count": null
  },
  {
   "metadata": {},
   "cell_type": "code",
   "source": [
    "# 发送带header的请求\n",
    "import requests\n",
    "\n",
    "url = 'http://www.baidu.com'\n",
    "\n",
    "response = requests.get(url)\n",
    "\n",
    "print(response.content)\n",
    "\n",
    "# 打印响应对应请求的请求头信息\n",
    "print(response.request.headers)"
   ],
   "id": "f2108f3f83066f4f",
   "outputs": [],
   "execution_count": null
  },
  {
   "metadata": {},
   "cell_type": "code",
   "source": [
    "# 完成代码\n",
    "import requests\n",
    "\n",
    "url = 'http://www.baidu.com'\n",
    "\n",
    "headers = {\"User-Agent\": \"Mozilla/5.0 (Windows NT 10.0; Win64; x64) AppleWebKit/537.36 (KHTML, like Gecko) Chrome/54.0.2840.99 Safari/537.36\"}\n",
    "\n",
    "# 请求头中带上user-agent,模拟浏览器发送请求\n",
    "response = requests.get(url, headers=headers)\n",
    "\n",
    "# 打印请求头信息\n",
    "print(response.request.headers)"
   ],
   "id": "fbae555a75488a03",
   "outputs": [],
   "execution_count": null
  },
  {
   "metadata": {},
   "cell_type": "markdown",
   "source": "发送带参数的请求",
   "id": "20e9171ea0b5b4cc"
  },
  {
   "metadata": {},
   "cell_type": "code",
   "source": [
    "# 方式1\n",
    "import requests\n",
    "\n",
    "headers = {\"User-Agent\": \"Mozilla/5.0 (Windows NT 10.0; Win64; x64) AppleWebKit/537.36 (KHTML, like Gecko) Chrome/54.0.2840.99 Safari/537.36\"}\n",
    "\n",
    "# 最后有没有问好结果都一样\n",
    "url = 'http://www.baidu.com/s?'\n",
    "\n",
    "# 请求参数是一个字典,即wd=python\n",
    "kw = {'wd': 'python'}\n",
    "\n",
    "# 带上请求参数发起请求,获取响应\n",
    "response = requests.get(url, headers=headers, params=kw)\n",
    "\n",
    "print(response.content)"
   ],
   "id": "7eee90372858a39b",
   "outputs": [],
   "execution_count": null
  },
  {
   "metadata": {},
   "cell_type": "code",
   "source": [
    "# 方式2\n",
    "import requests\n",
    "\n",
    "headers = {\"User-Agent\": \"Mozilla/5.0 (Windows NT 10.0; Win64; x64) AppleWebKit/537.36 (KHTML, like Gecko) Chrome/54.0.2840.99 Safari/537.36\"}\n",
    "\n",
    "url = 'http://www.baidu.com/s?wd=python'\n",
    "\n",
    "# url中包含了请求参数,所以无需params\n",
    "response = requests.get(url, headers=headers)\n",
    "\n",
    "print(response.text)"
   ],
   "id": "b94a612313f17785",
   "outputs": [],
   "execution_count": null
  },
  {
   "metadata": {},
   "cell_type": "code",
   "outputs": [],
   "execution_count": null,
   "source": [
    "import requests\n",
    "\n",
    "# 图片url\n",
    "url = 'https://www.baidu.com/img/bd_logo1.png'\n",
    "\n",
    "# 响应本身是一个图片且为二进制\n",
    "response = requests.get(url)\n",
    "\n",
    "print(response.content)\n",
    "\n",
    "# 以二进制+写入的方式打开文件\n",
    "with open('练习/baidu.jpg', 'wb') as f:\n",
    "    # 写入response.content btypes二进制类型\n",
    "    f.write(response.content)"
   ],
   "id": "24982ad49c0aa92c"
  },
  {
   "metadata": {},
   "cell_type": "code",
   "source": [
    "response.status_code\n",
    "# response.request.headers\n",
    "# response.headers\n",
    "# response.cookies"
   ],
   "id": "4789b11d003b0b81",
   "outputs": [],
   "execution_count": null
  },
  {
   "metadata": {},
   "cell_type": "code",
   "source": [
    "response.content.decode()\n",
    "response.content.decode('utf-8')\n",
    "response.text"
   ],
   "id": "806067fcb4ab1887",
   "outputs": [],
   "execution_count": null
  },
  {
   "metadata": {},
   "cell_type": "markdown",
   "source": "使用requests发送post请求",
   "id": "c709265fbbdfd431"
  },
  {
   "metadata": {},
   "cell_type": "code",
   "source": [
    "import requests\n",
    "import json\n",
    "\n",
    "headers = {\"User-Agent\": \"Mozilla/5.0 (Windows NT 10.0; Win64; x64) AppleWebKit/537.36 (KHTML, like Gecko) Chrome/126.0.0.0 Safari/537.36\"}\n",
    "\n",
    "url = 'https://ifanyi.iciba.com/index.php?c=trans&m=fy&client=6&auth_user=key_web_new_fanyi&sign=JD%2FQVscCeOKsdRBeqIVMudRriqVIAJSQ%2BxmfU0q7dIE%3D'\n",
    "\n",
    "data = {\n",
    "    'from': 'zh',\n",
    "    'to': 'en',\n",
    "    'q': 'lucky 是一个帅气的佬'\n",
    "}\n",
    "\n",
    "res = requests.post(url, headers=headers, data=data)\n",
    "\n",
    "# 返回的是json字符串,需要转成字典\n",
    "data = json.loads(res.content.decode('utf-8'))\n",
    "# print(data)\n",
    "print(data['content'])"
   ],
   "id": "55d056cc7d7b7468",
   "outputs": [],
   "execution_count": null
  },
  {
   "metadata": {
    "ExecuteTime": {
     "end_time": "2024-06-26T08:38:18.926910Z",
     "start_time": "2024-06-26T08:38:08.491993Z"
    }
   },
   "cell_type": "code",
   "source": [
    "# 代理\n",
    "import requests\n",
    "\n",
    "proxy = {\n",
    "    # 'https':'https://221.178.232.130:8080'\n",
    "    'https': '119.39.109.233:3128'\n",
    "}\n",
    "\n",
    "\"\"\"\n",
    "# 多个ip地址\n",
    "proxy = [\n",
    "  {'https':'221.178.232.130:8080'},\n",
    "  {'https':'221.178.232.130:8080'}\n",
    "]\n",
    "import random\n",
    "proxy = random.choice(proxy)\n",
    "\"\"\"\n",
    "\n",
    "# 百度检测ip代理是否成功\n",
    "url = 'https://www.baidu.com/s'\n",
    "# 请求网页传的参数\n",
    "params = {'wd': 'ip地址'}\n",
    "# 请求头\n",
    "headers = {\"User-Agent\": \"Mozilla/5.0 (Windows NT 10.0; Win64; x64) AppleWebKit/537.36 (KHTML, like Gecko) Chrome/126.0.0.0 Safari/537.36\"}\n",
    "# 发送get请求\n",
    "# 代理不行\n",
    "response = requests.get(url=url, params=params, headers=headers, proxies=proxy)\n",
    "# response = requests.get(url=url, params=params, headers=headers)\n",
    "# 获取返回的页面,写入本地\n",
    "with open('练习/ip.html', 'w', encoding='utf-8') as f:\n",
    "    f.write(response.text)"
   ],
   "id": "2dabbab9eed576bd",
   "outputs": [],
   "execution_count": 3
  },
  {
   "metadata": {},
   "cell_type": "markdown",
   "source": "小米应用商店 应用名和超链接",
   "id": "4725d1b570fe6036"
  },
  {
   "metadata": {
    "ExecuteTime": {
     "end_time": "2024-06-26T08:51:27.569349Z",
     "start_time": "2024-06-26T08:51:27.534538Z"
    }
   },
   "cell_type": "code",
   "source": [
    "import requests\n",
    "from lxml import etree"
   ],
   "id": "d29639104ee358b7",
   "outputs": [],
   "execution_count": 5
  },
  {
   "metadata": {
    "ExecuteTime": {
     "end_time": "2024-06-26T08:53:06.615734Z",
     "start_time": "2024-06-26T08:53:06.285228Z"
    }
   },
   "cell_type": "code",
   "source": [
    "url = 'https://app.mi.com/catTopList/0?page=1'\n",
    "headers = {\"User-Agent\": \"Mozilla/5.0 (Windows NT 10.0; Win64; x64) AppleWebKit/537.36 (KHTML, like Gecko) Chrome/126.0.0.0 Safari/537.36\"}\n",
    "res = requests.get(url=url, headers=headers)\n",
    "content = res.content.decode()\n",
    "tree = etree.HTML(content)"
   ],
   "id": "9b5a9b713c1c8a2b",
   "outputs": [],
   "execution_count": 6
  },
  {
   "metadata": {
    "ExecuteTime": {
     "end_time": "2024-06-26T09:02:02.710991Z",
     "start_time": "2024-06-26T09:02:02.704789Z"
    }
   },
   "cell_type": "code",
   "source": [
    "for tag_app in tree.xpath('//div[@class=\"applist-wrap\"]/ul[@class=\"applist\"]/li/h5/a'):\n",
    "    print(tag_app.xpath('./text()')[0], tag_app.xpath('./@href')[0])"
   ],
   "id": "e70bcbcef21a3fa2",
   "outputs": [
    {
     "name": "stdout",
     "output_type": "stream",
     "text": [
      "王者荣耀 /details?id=com.tencent.tmgp.sgame\n",
      "夸克-免费高考志愿填报助手 /details?id=com.quark.browser\n",
      "抖音 /details?id=com.ss.android.ugc.aweme\n",
      "钉钉-让进步发生 /details?id=com.alibaba.android.rimet\n",
      "作业帮-作业检查和辅导工具 /details?id=com.baidu.homework\n",
      "QQ /details?id=com.tencent.mobileqq\n",
      "快对-拍照翻译 /details?id=com.kuaiduizuoye.scan\n",
      "UC浏览器-好搜好看好好用 /details?id=com.UCMobile\n",
      "快手 /details?id=com.smile.gifmaker\n",
      "拼多多 /details?id=com.xunmeng.pinduoduo\n",
      "快手极速版 /details?id=com.kuaishou.nebula\n",
      "哔哩哔哩-填志愿上B站 /details?id=tv.danmaku.bili\n",
      "京东 /details?id=com.jingdong.app.mall\n",
      "腾讯会议 /details?id=com.tencent.wemeet.app\n",
      "小红书 /details?id=com.xingin.xhs\n",
      "虎牙直播 /details?id=com.duowan.kiwi\n",
      "地铁跑酷-猪猪侠联动 /details?id=com.kiloo.subwaysurf\n",
      "QQ浏览器-高考志愿填报助手 /details?id=com.tencent.mtt\n",
      "迅雷 /details?id=com.xunlei.downloadprovider\n",
      "知乎 /details?id=com.zhihu.android\n",
      "抖音极速版 /details?id=com.ss.android.ugc.aweme.lite\n",
      "淘宝 /details?id=com.taobao.taobao\n",
      "和平精英 /details?id=com.tencent.tmgp.pubgmhd\n",
      "美图秀秀 /details?id=com.mt.mtxx.mtxx\n",
      "百度 /details?id=com.baidu.searchbox\n",
      "番茄免费小说 /details?id=com.dragon.read\n",
      "剪映 /details?id=com.lemon.lv\n",
      "微信 /details?id=com.tencent.mm\n",
      "闲鱼 /details?id=com.taobao.idlefish\n",
      "腾讯视频 /details?id=com.tencent.qqlive\n",
      "微博 /details?id=com.sina.weibo\n",
      "爱奇艺-颜心记欧洲杯热播 /details?id=com.qiyi.video\n",
      "迷你世界 /details?id=com.minitech.miniworld.TMobile.mi\n",
      "美团-美好生活小帮手 /details?id=com.sankuai.meituan\n",
      "优酷视频-度华年全网独播 /details?id=com.youku.phone\n",
      "百度网盘 /details?id=com.baidu.netdisk\n"
     ]
    }
   ],
   "execution_count": 17
  },
  {
   "metadata": {},
   "cell_type": "markdown",
   "source": "金投网 表格内容",
   "id": "a9f6448b683bb8f9"
  },
  {
   "metadata": {
    "ExecuteTime": {
     "end_time": "2024-06-26T09:03:13.015725Z",
     "start_time": "2024-06-26T09:03:12.810531Z"
    }
   },
   "cell_type": "code",
   "source": [
    "import requests\n",
    "from lxml import etree\n",
    "\n",
    "headers = {\n",
    "    'user-agent': 'Mozilla/5.0 (Windows NT 6.1; Win64; x64) AppleWebKit/537.36 (KHTML, like Gecko) Chrome/104.0.0.0 Safari/537.36'\n",
    "}\n",
    "url = 'https://cang.cngold.org/c/2022-06-14/c8152503.html'\n",
    "\n",
    "res = requests.get(url, headers=headers)\n",
    "content = res.content.decode()\n",
    "tree = etree.HTML(content)\n",
    "text = tree.xpath('//table[@border=\"1\"]/tbody/tr/td/text()')\n",
    "print(text)"
   ],
   "id": "e0af22afd56b6f3a",
   "outputs": [
    {
     "name": "stdout",
     "output_type": "stream",
     "text": [
      "['名称', '品相', '价格', '大头三、九、十年', '普品', '550元', '大头八年', '普品', '750元', '小头', '普品', '420元', '23年帆船', '普品', '550元', '22年帆船', '普品', '800元', '鹰洋', '普品', '300元', '四川军政府(汉版)', '普品', '600元', '大头中圆', '普品', '1300元', '坐洋壹元', '普品', '280元', '站洋壹元', '普品', '620元', '34年北洋龙', '普品', '1300元', '33年北洋龙', '普品', '2200元', '29年北洋龙', '普品', '1400元', '26年北洋龙', '普品', '7500元', '25年北洋龙', '普品', '2800元', '24年北洋', '普品', '4000元', '23年北洋', '普品', '6000元', '帆船三鸟', '普品', '20000元', '造币总厂', '普品', '2800元', '大清银币', '普品', '1800元', '新版云南光绪7.2', '普品', '2100元', '湖北光绪、宣统', '普品', '1350/1350元', '广东光绪、宣统', '普品', '1350/1350元', '云南光绪、宣统', '普品', '3500/4500元', '四川光绪、宣统', '普品', '2000/2500元', '唐军长正像', '普品', '580元', '唐军长侧像', '普品', '3000元', '四川卢比', '普品', '580元', '日本龙洋', '普品', '500元', '江南甲辰', '普品', '1350元', '壬寅', '普品', '1800元', '辛丑', '普品', '1800元', '庚子', '普品', '2500元', '戊戌', '普品', '5200元', '已亥', '普品', '5300元', '癸卯', '普品', '5800元', '乙巳', '普品', '6000元']\n"
     ]
    }
   ],
   "execution_count": 18
  },
  {
   "metadata": {},
   "cell_type": "code",
   "outputs": [],
   "execution_count": null,
   "source": "",
   "id": "251f23e592ea7b6a"
  }
 ],
 "metadata": {
  "kernelspec": {
   "display_name": "Python 3",
   "language": "python",
   "name": "python3"
  },
  "language_info": {
   "codemirror_mode": {
    "name": "ipython",
    "version": 2
   },
   "file_extension": ".py",
   "mimetype": "text/x-python",
   "name": "python",
   "nbconvert_exporter": "python",
   "pygments_lexer": "ipython2",
   "version": "2.7.6"
  }
 },
 "nbformat": 4,
 "nbformat_minor": 5
}
