{
 "cells": [
  {
   "metadata": {},
   "cell_type": "markdown",
   "source": "# urllib",
   "id": "3ea1a7581f0efdde"
  },
  {
   "metadata": {},
   "cell_type": "code",
   "source": [
    "import urllib\n",
    "# 构造请求\n",
    "request = urllib.request.Request('http://www.baidu.com')\n",
    "# 发送请求获取响应\n",
    "response = urllib.request.urlopen(request)\n",
    "# 构造 headers\n",
    "headers = {\"User-Agent\" : \"Mozilla/5.0 (compatible; MSIE 9.0; Windows NT 6.1; Trident/5.0)\"} \n",
    "# 构造请求\n",
    "request = urllib.request.Request('http://www.baidu.com', headers=headers)\n",
    "# 发送请求\n",
    "response = urllib.request.urlopen(request)"
   ],
   "id": "2732b9c5d8b108b9",
   "outputs": [],
   "execution_count": null
  },
  {
   "metadata": {},
   "cell_type": "code",
   "source": [
    "import urllib.request\n",
    "import urllib.parse\n",
    "import json\n",
    "\n",
    "url = 'https://ifanyi.iciba.com/index.php?c=trans&m=fy&client=6&auth_user=key_ciba&sign=99730f3bf66b2582'\n",
    "headers = {\n",
    "    'User-Agent': 'Mozilla/5.0 (Windows NT 10.0; Win64; x64) AppleWebKit/537.36 (KHTML, like Gecko) Chrome/124.0.0.0 Safari/537.36',\n",
    "}\n",
    "data = {\n",
    "    'from': 'zh',\n",
    "    'to': 'en',\n",
    "    'q': '好啵，lucky 是一个帅气的佬'\n",
    "}\n",
    "\n",
    "# 使用post方式\n",
    "data = urllib.parse.urlencode(data).encode('utf-8')\n",
    "req = urllib.request.Request(url, data=data, headers=headers)\n",
    "res = urllib.request.urlopen(req)\n",
    "print(res.getcode())\n",
    "print(res.geturl())\n",
    "data = json.loads(res.read().decode('utf-8'))\n",
    "print(data)\n",
    "# 发送请求\n",
    "response = urllib.request.urlopen('http://www.baidu.com')\n",
    "# 获取响应\n",
    "response.read()"
   ],
   "id": "c2700e70be69350f",
   "outputs": [],
   "execution_count": null
  },
  {
   "metadata": {},
   "cell_type": "code",
   "source": [
    "import urllib\n",
    "import json\n",
    "\n",
    "url = 'http://www.baidu.com'\n",
    "headers = {\n",
    "    'User-Agent': 'Mozilla/5.0 (Windows NT 10.0; Win64; x64) AppleWebKit/537.36 (KHTML, like Gecko) Chrome/124.0.0.0 Safari/537.36',\n",
    "}\n",
    "request = urllib.request.Request(url, headers=headers)\n",
    "response = urllib.request.urlopen(request)\n",
    "html_str = response.read().decode('utf-8')\n",
    "print(html_str)"
   ],
   "id": "683e2bacc92a81ba",
   "outputs": [],
   "execution_count": null
  },
  {
   "metadata": {},
   "cell_type": "markdown",
   "source": "# requests",
   "id": "ba3e6ccac7dc81ca"
  },
  {
   "metadata": {},
   "cell_type": "code",
   "source": [
    "import requests\n",
    "\n",
    "url = 'http://www.baidu.com'\n",
    "# 向目标url发送get请求\n",
    "response = requests.get(url)\n",
    "# 打印响应内容\n",
    "print(response.text)"
   ],
   "id": "5267ee6d599a47a5",
   "outputs": [],
   "execution_count": null
  },
  {
   "metadata": {},
   "cell_type": "code",
   "source": [
    "import requests\n",
    "\n",
    "# 图片url\n",
    "url = 'https://www.baidu.com/img/bd_logo1.png'\n",
    "\n",
    "# 响应本身是一个图片且为二进制\n",
    "response = requests.get(url)\n",
    "\n",
    "print(response.content)\n",
    "\n",
    "# 以二进制+写入的方式打开文件\n",
    "with open('baidu.jpg', 'wb') as f:\n",
    "    # 写入response.content btypes二进制类型\n",
    "    f.write(response.content)"
   ],
   "id": "24982ad49c0aa92c",
   "outputs": [],
   "execution_count": null
  },
  {
   "metadata": {},
   "cell_type": "code",
   "source": [
    "# 发送带header的请求\n",
    "import requests\n",
    "\n",
    "url = 'http://www.baidu.com'\n",
    "\n",
    "response = requests.get(url)\n",
    "\n",
    "print(response.content)\n",
    "\n",
    "# 打印响应对应请求的请求头信息\n",
    "print(response.request.headers)"
   ],
   "id": "f2108f3f83066f4f",
   "outputs": [],
   "execution_count": null
  },
  {
   "metadata": {},
   "cell_type": "code",
   "source": [
    "# 完成代码\n",
    "import requests\n",
    "\n",
    "url = 'http://www.baidu.com'\n",
    "\n",
    "headers = {\"User-Agent\": \"Mozilla/5.0 (Windows NT 10.0; Win64; x64) AppleWebKit/537.36 (KHTML, like Gecko) Chrome/54.0.2840.99 Safari/537.36\"}\n",
    "\n",
    "# 请求头中带上user-agent,模拟浏览器发送请求\n",
    "response = requests.get(url, headers=headers)\n",
    "\n",
    "# 打印请求头信息\n",
    "print(response.request.headers)"
   ],
   "id": "fbae555a75488a03",
   "outputs": [],
   "execution_count": null
  },
  {
   "metadata": {},
   "cell_type": "markdown",
   "source": "发送带参数的请求",
   "id": "20e9171ea0b5b4cc"
  },
  {
   "metadata": {},
   "cell_type": "code",
   "source": [
    "# 方式1\n",
    "import requests\n",
    "\n",
    "headers = {\"User-Agent\": \"Mozilla/5.0 (Windows NT 10.0; Win64; x64) AppleWebKit/537.36 (KHTML, like Gecko) Chrome/54.0.2840.99 Safari/537.36\"}\n",
    "\n",
    "# 最后有没有问好结果都一样\n",
    "url = 'http://www.baidu.com/s?'\n",
    "\n",
    "# 请求参数是一个字典,即wd=python\n",
    "kw = {'wd': 'python'}\n",
    "\n",
    "# 带上请求参数发起请求,获取响应\n",
    "response = requests.get(url, headers=headers, params=kw)\n",
    "\n",
    "print(response.content)"
   ],
   "id": "7eee90372858a39b",
   "outputs": [],
   "execution_count": null
  },
  {
   "metadata": {},
   "cell_type": "code",
   "source": [
    "# 方式2\n",
    "import requests\n",
    "\n",
    "headers = {\"User-Agent\": \"Mozilla/5.0 (Windows NT 10.0; Win64; x64) AppleWebKit/537.36 (KHTML, like Gecko) Chrome/54.0.2840.99 Safari/537.36\"}\n",
    "\n",
    "url = 'http://www.baidu.com/s?wd=python'\n",
    "\n",
    "# url中包含了请求参数,所以无需params\n",
    "response = requests.get(url, headers=headers)\n",
    "\n",
    "print(response.text)"
   ],
   "id": "b94a612313f17785",
   "outputs": [],
   "execution_count": null
  },
  {
   "metadata": {},
   "cell_type": "code",
   "source": [
    "response.status_code\n",
    "# response.request.headers\n",
    "# response.headers\n",
    "# response.cookies"
   ],
   "id": "4789b11d003b0b81",
   "outputs": [],
   "execution_count": null
  },
  {
   "metadata": {},
   "cell_type": "code",
   "source": [
    "response.content.decode()\n",
    "response.content.decode('utf-8')\n",
    "response.text"
   ],
   "id": "806067fcb4ab1887",
   "outputs": [],
   "execution_count": null
  },
  {
   "metadata": {},
   "cell_type": "markdown",
   "source": "使用requests发送post请求",
   "id": "c709265fbbdfd431"
  },
  {
   "metadata": {},
   "cell_type": "code",
   "source": [
    "import requests\n",
    "import json\n",
    "\n",
    "headers = {\"User-Agent\": \"Mozilla/5.0 (Windows NT 10.0; Win64; x64) AppleWebKit/537.36 (KHTML, like Gecko) Chrome/126.0.0.0 Safari/537.36\"}\n",
    "\n",
    "url = 'https://ifanyi.iciba.com/index.php?c=trans&m=fy&client=6&auth_user=key_web_new_fanyi&sign=JD%2FQVscCeOKsdRBeqIVMudRriqVIAJSQ%2BxmfU0q7dIE%3D'\n",
    "\n",
    "data = {\n",
    "    'from': 'zh',\n",
    "    'to': 'en',\n",
    "    'q': 'lucky 是一个帅气的佬'\n",
    "}\n",
    "\n",
    "res = requests.post(url, headers=headers, data=data)\n",
    "\n",
    "# 返回的是json字符串,需要转成字典\n",
    "data = json.loads(res.content.decode('utf-8'))\n",
    "# print(data)\n",
    "print(data['content'])"
   ],
   "id": "55d056cc7d7b7468",
   "outputs": [],
   "execution_count": null
  },
  {
   "metadata": {
    "ExecuteTime": {
     "end_time": "2024-06-26T08:38:18.926910Z",
     "start_time": "2024-06-26T08:38:08.491993Z"
    }
   },
   "cell_type": "code",
   "source": [
    "# 代理\n",
    "import requests\n",
    "\n",
    "proxy = {\n",
    "    # 'https':'https://221.178.232.130:8080'\n",
    "    'https': '119.39.109.233:3128'\n",
    "}\n",
    "\n",
    "\"\"\"\n",
    "# 多个ip地址\n",
    "proxy = [\n",
    "  {'https':'221.178.232.130:8080'},\n",
    "  {'https':'221.178.232.130:8080'}\n",
    "]\n",
    "import random\n",
    "proxy = random.choice(proxy)\n",
    "\"\"\"\n",
    "\n",
    "# 百度检测ip代理是否成功\n",
    "url = 'https://www.baidu.com/s'\n",
    "# 请求网页传的参数\n",
    "params = {'wd': 'ip地址'}\n",
    "# 请求头\n",
    "headers = {\"User-Agent\": \"Mozilla/5.0 (Windows NT 10.0; Win64; x64) AppleWebKit/537.36 (KHTML, like Gecko) Chrome/126.0.0.0 Safari/537.36\"}\n",
    "# 发送get请求\n",
    "# 代理不行\n",
    "response = requests.get(url=url, params=params, headers=headers, proxies=proxy)\n",
    "# response = requests.get(url=url, params=params, headers=headers)\n",
    "# 获取返回的页面,写入本地\n",
    "with open('ip.html', 'w', encoding='utf-8') as f:\n",
    "    f.write(response.text)"
   ],
   "id": "2dabbab9eed576bd",
   "outputs": [],
   "execution_count": 3
  },
  {
   "metadata": {},
   "cell_type": "code",
   "outputs": [],
   "execution_count": null,
   "source": "",
   "id": "cd20e52f0d6a1e76"
  }
 ],
 "metadata": {
  "kernelspec": {
   "display_name": "Python 3",
   "language": "python",
   "name": "python3"
  },
  "language_info": {
   "codemirror_mode": {
    "name": "ipython",
    "version": 2
   },
   "file_extension": ".py",
   "mimetype": "text/x-python",
   "name": "python",
   "nbconvert_exporter": "python",
   "pygments_lexer": "ipython2",
   "version": "2.7.6"
  }
 },
 "nbformat": 4,
 "nbformat_minor": 5
}
